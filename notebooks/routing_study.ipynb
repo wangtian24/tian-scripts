{
 "cells": [
  {
   "cell_type": "code",
   "execution_count": null,
   "metadata": {},
   "outputs": [],
   "source": [
    "%load_ext autoreload\n",
    "%autoreload 2\n",
    "\n",
    "import os  # noqa\n",
    "import sys  # noqa\n",
    "\n",
    "from collections import Counter  # noqa\n",
    "import pandas as pd  # noqa\n",
    "import requests  # noqa\n",
    "import seaborn as sns  # noqa\n",
    "from tqdm.notebook import tqdm  # noqa\n",
    "import plotly.express as px  # noqa\n",
    "from plotly.subplots import make_subplots  # noqa\n",
    "import plotly.graph_objects as go  # noqa\n",
    "\n",
    "sys.path.append(\"..\")\n",
    "\n",
    "from ypl.backend.llm.routing.policy import RoutingPolicy, SelectionCriteria  # noqa\n",
    "from ypl.backend.llm.routing.router import RankedRouter  # noqa\n",
    "from ypl.backend.llm.ranking import ChoixRankerConfIntervals, PerCategoryRanker  # noqa"
   ]
  },
  {
   "cell_type": "code",
   "execution_count": null,
   "metadata": {},
   "outputs": [],
   "source": [
    "# This data is also found in https://drive.google.com/drive/u/0/folders/1660oK765zlYCNf8B-cF82T_CKnQvc9cK as backup.\n",
    "\n",
    "local_file_name = \"../tmp/clean_battle_20240814_public.json\"\n",
    "\n",
    "if not os.path.exists(local_file_name):\n",
    "    print(\"Downloading battles\")\n",
    "    url = \"https://storage.googleapis.com/arena_external_data/public/clean_battle_20240814_public.json\"\n",
    "    response = requests.get(url)\n",
    "\n",
    "    with open(local_file_name, \"wb\") as file:\n",
    "        file.write(response.content)\n",
    "\n",
    "with open(local_file_name) as file:\n",
    "    battles = pd.read_json(file).sort_values(ascending=True, by=[\"tstamp\"])\n",
    "\n",
    "battles = battles[battles[\"dedup_tag\"].apply(lambda x: x.get(\"sampled\", False))]\n",
    "\n",
    "print(battles.shape)\n",
    "\n",
    "battles.head(2)"
   ]
  },
  {
   "cell_type": "code",
   "execution_count": 4,
   "metadata": {},
   "outputs": [
    {
     "name": "stderr",
     "output_type": "stream",
     "text": [
      "/Users/gilad/miniforge3/envs/ys-dev/lib/python3.11/site-packages/pydantic/_internal/_fields.py:160: UserWarning: Field \"model_id\" has conflict with protected namespace \"model_\".\n",
      "\n",
      "You may be able to resolve this warning by setting `model_config['protected_namespaces'] = ()`.\n",
      "  warnings.warn(\n"
     ]
    },
    {
     "data": {
      "application/vnd.jupyter.widget-view+json": {
       "model_id": "ade6877842834a6b8052694ddc06a2ea",
       "version_major": 2,
       "version_minor": 0
      },
      "text/plain": [
       "  0%|          | 0/167025 [00:00<?, ?it/s]"
      ]
     },
     "metadata": {},
     "output_type": "display_data"
    },
    {
     "name": "stdout",
     "output_type": "stream",
     "text": [
      "RatedModel(model='chatgpt-4o-latest', rating=AnnotatedFloat(value=1512.9990057037976, annotation='Wins: 902, Losses: 540, Ties: 0 (1473.8 to 1521.0)'))\n",
      "RatedModel(model='gemini-1.5-pro-exp-0801', rating=AnnotatedFloat(value=1424.843661942927, annotation='Wins: 1194, Losses: 794, Ties: 0 (1405.7 to 1433.7)'))\n",
      "RatedModel(model='gpt-4o-2024-05-13', rating=AnnotatedFloat(value=1400.6453699114654, annotation='Wins: 4606, Losses: 3049, Ties: 0 (1400.3 to 1403.8)'))\n",
      "RatedModel(model='claude-3-5-sonnet-20240620', rating=AnnotatedFloat(value=1371.1675027896265, annotation='Wins: 2646, Losses: 2005, Ties: 0 (1360.9 to 1377.1)'))\n",
      "RatedModel(model='gpt-4o-mini-2024-07-18', rating=AnnotatedFloat(value=1368.8755648709946, annotation='Wins: 1098, Losses: 814, Ties: 0 (1355.3 to 1374.1)'))\n",
      "...\n",
      "RatedModel(model='llama-13b', rating=AnnotatedFloat(value=342.5471870222201, annotation='Wins: 84, Losses: 159, Ties: 0 (293.4 to 433.7)'))\n",
      "RatedModel(model='dolly-v2-12b', rating=AnnotatedFloat(value=300.01040639091525, annotation='Wins: 108, Losses: 228, Ties: 0 (296.9 to 311.5)'))\n",
      "RatedModel(model='stablelm-tuned-alpha-7b', rating=AnnotatedFloat(value=281.35124416984786, annotation='Wins: 108, Losses: 221, Ties: 0 (281.3 to 346.9)'))\n"
     ]
    }
   ],
   "source": [
    "models = list(set(battles.head()[\"model_a\"]) | set(battles.head()[\"model_b\"]))\n",
    "\n",
    "routing_policy = RoutingPolicy(\n",
    "    selection_criteria=SelectionCriteria.PROPORTIONAL,\n",
    "    minimum_model_traffic_fraction={\n",
    "        # \"dolly-v2-12b\": 0.2,\n",
    "        # \"gemini-advanced-0514\": 0.2,\n",
    "    },\n",
    "    random_fraction=0.1,\n",
    ")\n",
    "\n",
    "ranker_kwargs = dict(\n",
    "    models=models,\n",
    "    num_bootstrap_iterations=3,\n",
    "    choix_ranker_algorithm=\"lsr_pairwise\",\n",
    ")\n",
    "categories = (\"coding\", \"math\")\n",
    "ranker = PerCategoryRanker(categories=categories, ranker_cls=ChoixRankerConfIntervals, ranker_kwargs=ranker_kwargs)\n",
    "router = RankedRouter(\n",
    "    models=models,\n",
    "    policy=routing_policy,\n",
    "    ranker=ranker,\n",
    "    seed=123,\n",
    ")\n",
    "\n",
    "routes = []\n",
    "sample_fraction = 0.1\n",
    "battles_sample = battles.sample(frac=sample_fraction).sort_values(by=\"tstamp\", ascending=True)\n",
    "for _, row in tqdm(battles_sample.iterrows(), total=len(battles_sample)):\n",
    "    routes.append(router.select_models(2))\n",
    "    model1, model2 = (row.model_a, row.model_b) if row.winner == \"model_a\" else (row.model_b, row.model_a)\n",
    "    category = None\n",
    "    if row.is_code:\n",
    "        category = \"coding\"\n",
    "    elif row.category_tag.get(\"math_v0.1\", {}).get(\"math\"):\n",
    "        category = \"math\"\n",
    "    router.update_ranker(model1, model2, 1.0, category=category)\n",
    "\n",
    "ranker.update_ratings()\n",
    "\n",
    "leaderboard = sorted(ranker.leaderboard(), key=lambda x: x.rating.value, reverse=True)\n",
    "for rm in leaderboard[:5]:\n",
    "    print(rm)\n",
    "print(\"...\")\n",
    "for rm in leaderboard[-3:]:\n",
    "    print(rm)"
   ]
  },
  {
   "cell_type": "code",
   "execution_count": 5,
   "metadata": {},
   "outputs": [
    {
     "data": {
      "application/vnd.plotly.v1+json": {
       "config": {
        "plotlyServerURL": "https://plot.ly"
       },
       "data": [
        {
         "coloraxis": "coloraxis",
         "hovertemplate": "Model A: %{y}<br>Model B: %{x}<br>Count: %{z}<extra></extra>",
         "name": "0",
         "texttemplate": "%{z}",
         "type": "heatmap",
         "x": [
          "gpt-4-1106-preview",
          "gpt-4-0125-preview",
          "gpt-4-0314",
          "claude-3-opus-20240229",
          "gpt-4-turbo-2024-04-09",
          "claude-1",
          "bard-jan-24-gemini-pro",
          "gemini-1.5-pro-api-0409-preview",
          "gpt-4-0613",
          "claude-3-sonnet-20240229",
          "claude-2.0",
          "gpt-4o-2024-05-13",
          "mistral-medium",
          "gpt-3.5-turbo-0613",
          "command-r-plus",
          "claude-3-haiku-20240307",
          "claude-instant-1",
          "mistral-large-2402",
          "llama-3-70b-instruct",
          "gpt-3.5-turbo-0314",
          "qwen1.5-72b-chat",
          "claude-2.1",
          "mixtral-8x7b-instruct-v0.1",
          "wizardlm-70b",
          "gemini-advanced-0514",
          "vicuna-33b",
          "gemini-pro-dev-api",
          "gemini-1.5-pro-api-0514",
          "llama-2-70b-chat",
          "starling-lm-7b-alpha"
         ],
         "xaxis": "x",
         "y": [
          "gpt-4-1106-preview",
          "gpt-4-0125-preview",
          "gpt-4-0314",
          "claude-3-opus-20240229",
          "gpt-4-turbo-2024-04-09",
          "claude-1",
          "bard-jan-24-gemini-pro",
          "gemini-1.5-pro-api-0409-preview",
          "gpt-4-0613",
          "claude-3-sonnet-20240229",
          "claude-2.0",
          "gpt-4o-2024-05-13",
          "mistral-medium",
          "gpt-3.5-turbo-0613",
          "command-r-plus",
          "claude-3-haiku-20240307",
          "claude-instant-1",
          "mistral-large-2402",
          "llama-3-70b-instruct",
          "gpt-3.5-turbo-0314",
          "qwen1.5-72b-chat",
          "claude-2.1",
          "mixtral-8x7b-instruct-v0.1",
          "wizardlm-70b",
          "gemini-advanced-0514",
          "vicuna-33b",
          "gemini-pro-dev-api",
          "gemini-1.5-pro-api-0514",
          "llama-2-70b-chat",
          "starling-lm-7b-alpha"
         ],
         "yaxis": "y",
         "z": [
          [
           0,
           491,
           448,
           334,
           251,
           280,
           323,
           160,
           297,
           195,
           255,
           93,
           201,
           220,
           113,
           137,
           161,
           137,
           112,
           119,
           129,
           159,
           171,
           140,
           60,
           135,
           124,
           56,
           120,
           137
          ],
          [
           473,
           0,
           196,
           380,
           268,
           157,
           277,
           217,
           154,
           209,
           103,
           99,
           132,
           89,
           127,
           161,
           86,
           157,
           90,
           75,
           129,
           113,
           95,
           75,
           58,
           61,
           105,
           65,
           58,
           70
          ],
          [
           450,
           211,
           0,
           155,
           118,
           619,
           156,
           116,
           207,
           63,
           148,
           50,
           83,
           145,
           65,
           57,
           243,
           64,
           29,
           282,
           62,
           63,
           82,
           114,
           30,
           129,
           58,
           31,
           78,
           61
          ],
          [
           348,
           382,
           165,
           0,
           258,
           107,
           218,
           213,
           112,
           205,
           76,
           85,
           109,
           72,
           131,
           128,
           57,
           107,
           79,
           44,
           103,
           73,
           68,
           63,
           64,
           48,
           60,
           55,
           45,
           53
          ],
          [
           230,
           294,
           147,
           263,
           0,
           71,
           149,
           243,
           95,
           140,
           59,
           90,
           68,
           55,
           119,
           85,
           25,
           89,
           107,
           37,
           64,
           50,
           53,
           44,
           55,
           39,
           48,
           81,
           38,
           29
          ],
          [
           334,
           152,
           659,
           100,
           82,
           0,
           108,
           67,
           157,
           65,
           95,
           30,
           68,
           89,
           40,
           47,
           194,
           46,
           34,
           157,
           47,
           60,
           55,
           58,
           28,
           88,
           37,
           25,
           56,
           44
          ],
          [
           315,
           293,
           111,
           239,
           121,
           108,
           0,
           126,
           94,
           115,
           76,
           63,
           86,
           75,
           71,
           90,
           53,
           80,
           68,
           42,
           68,
           65,
           67,
           47,
           44,
           52,
           68,
           40,
           53,
           43
          ],
          [
           204,
           191,
           82,
           211,
           249,
           58,
           125,
           0,
           76,
           131,
           45,
           120,
           55,
           54,
           104,
           73,
           37,
           56,
           134,
           26,
           70,
           49,
           51,
           23,
           79,
           33,
           55,
           84,
           38,
           48
          ],
          [
           326,
           148,
           265,
           115,
           78,
           158,
           109,
           74,
           0,
           65,
           112,
           22,
           49,
           101,
           55,
           46,
           84,
           47,
           35,
           53,
           43,
           62,
           52,
           94,
           16,
           72,
           40,
           25,
           56,
           48
          ],
          [
           186,
           199,
           84,
           202,
           118,
           62,
           97,
           116,
           61,
           0,
           52,
           49,
           44,
           36,
           81,
           81,
           35,
           55,
           42,
           29,
           51,
           31,
           35,
           37,
           25,
           30,
           52,
           32,
           35,
           32
          ],
          [
           244,
           91,
           141,
           80,
           63,
           110,
           70,
           54,
           121,
           44,
           0,
           23,
           38,
           74,
           21,
           31,
           69,
           31,
           23,
           35,
           36,
           43,
           38,
           64,
           16,
           45,
           22,
           15,
           49,
           38
          ],
          [
           100,
           87,
           45,
           74,
           82,
           26,
           56,
           107,
           28,
           40,
           28,
           0,
           30,
           18,
           51,
           35,
           16,
           31,
           53,
           13,
           24,
           15,
           8,
           13,
           97,
           20,
           21,
           90,
           15,
           16
          ],
          [
           179,
           165,
           85,
           114,
           71,
           65,
           89,
           70,
           67,
           64,
           44,
           35,
           0,
           27,
           66,
           46,
           28,
           48,
           36,
           21,
           36,
           37,
           32,
           25,
           21,
           21,
           57,
           20,
           18,
           26
          ],
          [
           209,
           92,
           149,
           67,
           60,
           118,
           62,
           39,
           91,
           38,
           73,
           14,
           33,
           0,
           23,
           26,
           55,
           26,
           24,
           49,
           22,
           34,
           32,
           48,
           11,
           41,
           28,
           10,
           35,
           23
          ],
          [
           120,
           135,
           54,
           118,
           149,
           26,
           73,
           121,
           31,
           89,
           26,
           54,
           40,
           28,
           0,
           42,
           21,
           52,
           53,
           21,
           41,
           32,
           22,
           22,
           39,
           14,
           33,
           40,
           16,
           20
          ],
          [
           134,
           125,
           67,
           114,
           81,
           31,
           83,
           83,
           45,
           73,
           30,
           38,
           40,
           25,
           30,
           0,
           23,
           44,
           32,
           25,
           46,
           31,
           29,
           32,
           31,
           18,
           25,
           35,
           30,
           18
          ],
          [
           185,
           81,
           233,
           58,
           41,
           197,
           63,
           32,
           95,
           32,
           45,
           8,
           37,
           57,
           18,
           17,
           0,
           27,
           11,
           77,
           25,
           40,
           29,
           46,
           12,
           58,
           20,
           10,
           34,
           30
          ],
          [
           123,
           137,
           52,
           113,
           92,
           37,
           105,
           58,
           43,
           66,
           31,
           36,
           42,
           34,
           29,
           40,
           21,
           0,
           34,
           14,
           33,
           25,
           24,
           21,
           19,
           22,
           36,
           18,
           21,
           21
          ],
          [
           122,
           99,
           63,
           103,
           114,
           27,
           72,
           122,
           31,
           57,
           19,
           55,
           42,
           25,
           58,
           38,
           13,
           20,
           0,
           14,
           28,
           24,
           26,
           18,
           41,
           14,
           23,
           47,
           8,
           24
          ],
          [
           119,
           73,
           327,
           48,
           25,
           178,
           49,
           30,
           55,
           34,
           35,
           17,
           22,
           37,
           23,
           23,
           68,
           27,
           14,
           0,
           13,
           24,
           12,
           18,
           7,
           40,
           16,
           6,
           26,
           15
          ],
          [
           125,
           119,
           52,
           125,
           77,
           32,
           70,
           64,
           44,
           66,
           37,
           27,
           29,
           29,
           33,
           31,
           21,
           39,
           25,
           20,
           0,
           25,
           32,
           21,
           17,
           14,
           24,
           23,
           19,
           19
          ],
          [
           172,
           113,
           86,
           67,
           38,
           67,
           41,
           33,
           55,
           44,
           35,
           21,
           44,
           43,
           21,
           30,
           30,
           27,
           23,
           20,
           21,
           0,
           20,
           28,
           13,
           25,
           19,
           14,
           25,
           27
          ],
          [
           176,
           95,
           86,
           69,
           55,
           61,
           51,
           46,
           52,
           33,
           32,
           25,
           47,
           28,
           29,
           20,
           23,
           24,
           26,
           20,
           23,
           30,
           0,
           17,
           19,
           27,
           19,
           16,
           18,
           28
          ],
          [
           156,
           87,
           87,
           61,
           42,
           67,
           39,
           37,
           88,
           43,
           49,
           20,
           34,
           40,
           21,
           19,
           50,
           30,
           12,
           21,
           20,
           33,
           20,
           0,
           6,
           30,
           16,
           12,
           28,
           17
          ],
          [
           61,
           55,
           23,
           57,
           63,
           18,
           32,
           77,
           24,
           30,
           19,
           116,
           20,
           11,
           30,
           23,
           6,
           17,
           29,
           9,
           20,
           13,
           12,
           7,
           0,
           11,
           20,
           61,
           6,
           11
          ],
          [
           136,
           72,
           128,
           51,
           33,
           105,
           47,
           25,
           81,
           31,
           55,
           15,
           33,
           42,
           20,
           13,
           54,
           25,
           20,
           31,
           22,
           28,
           20,
           26,
           17,
           0,
           21,
           11,
           28,
           14
          ],
          [
           127,
           84,
           47,
           74,
           61,
           44,
           66,
           34,
           32,
           44,
           32,
           21,
           44,
           22,
           24,
           29,
           18,
           29,
           25,
           18,
           24,
           32,
           34,
           17,
           15,
           20,
           0,
           12,
           15,
           22
          ],
          [
           62,
           74,
           40,
           68,
           54,
           22,
           37,
           68,
           17,
           35,
           13,
           97,
           19,
           14,
           32,
           18,
           13,
           24,
           47,
           14,
           19,
           12,
           13,
           12,
           80,
           10,
           13,
           0,
           6,
           10
          ],
          [
           119,
           76,
           80,
           53,
           37,
           63,
           47,
           24,
           59,
           23,
           48,
           13,
           33,
           34,
           9,
           15,
           38,
           18,
           18,
           19,
           8,
           26,
           20,
           26,
           6,
           22,
           18,
           9,
           0,
           15
          ],
          [
           141,
           80,
           53,
           62,
           37,
           39,
           41,
           26,
           46,
           26,
           22,
           13,
           32,
           34,
           24,
           19,
           16,
           18,
           11,
           21,
           17,
           26,
           13,
           19,
           9,
           22,
           20,
           5,
           19,
           0
          ]
         ]
        }
       ],
       "layout": {
        "coloraxis": {
         "colorscale": [
          [
           0,
           "#0d0887"
          ],
          [
           0.1111111111111111,
           "#46039f"
          ],
          [
           0.2222222222222222,
           "#7201a8"
          ],
          [
           0.3333333333333333,
           "#9c179e"
          ],
          [
           0.4444444444444444,
           "#bd3786"
          ],
          [
           0.5555555555555556,
           "#d8576b"
          ],
          [
           0.6666666666666666,
           "#ed7953"
          ],
          [
           0.7777777777777778,
           "#fb9f3a"
          ],
          [
           0.8888888888888888,
           "#fdca26"
          ],
          [
           1,
           "#f0f921"
          ]
         ]
        },
        "font": {
         "size": 10
        },
        "height": 800,
        "template": {
         "data": {
          "bar": [
           {
            "error_x": {
             "color": "#2a3f5f"
            },
            "error_y": {
             "color": "#2a3f5f"
            },
            "marker": {
             "line": {
              "color": "#E5ECF6",
              "width": 0.5
             },
             "pattern": {
              "fillmode": "overlay",
              "size": 10,
              "solidity": 0.2
             }
            },
            "type": "bar"
           }
          ],
          "barpolar": [
           {
            "marker": {
             "line": {
              "color": "#E5ECF6",
              "width": 0.5
             },
             "pattern": {
              "fillmode": "overlay",
              "size": 10,
              "solidity": 0.2
             }
            },
            "type": "barpolar"
           }
          ],
          "carpet": [
           {
            "aaxis": {
             "endlinecolor": "#2a3f5f",
             "gridcolor": "white",
             "linecolor": "white",
             "minorgridcolor": "white",
             "startlinecolor": "#2a3f5f"
            },
            "baxis": {
             "endlinecolor": "#2a3f5f",
             "gridcolor": "white",
             "linecolor": "white",
             "minorgridcolor": "white",
             "startlinecolor": "#2a3f5f"
            },
            "type": "carpet"
           }
          ],
          "choropleth": [
           {
            "colorbar": {
             "outlinewidth": 0,
             "ticks": ""
            },
            "type": "choropleth"
           }
          ],
          "contour": [
           {
            "colorbar": {
             "outlinewidth": 0,
             "ticks": ""
            },
            "colorscale": [
             [
              0,
              "#0d0887"
             ],
             [
              0.1111111111111111,
              "#46039f"
             ],
             [
              0.2222222222222222,
              "#7201a8"
             ],
             [
              0.3333333333333333,
              "#9c179e"
             ],
             [
              0.4444444444444444,
              "#bd3786"
             ],
             [
              0.5555555555555556,
              "#d8576b"
             ],
             [
              0.6666666666666666,
              "#ed7953"
             ],
             [
              0.7777777777777778,
              "#fb9f3a"
             ],
             [
              0.8888888888888888,
              "#fdca26"
             ],
             [
              1,
              "#f0f921"
             ]
            ],
            "type": "contour"
           }
          ],
          "contourcarpet": [
           {
            "colorbar": {
             "outlinewidth": 0,
             "ticks": ""
            },
            "type": "contourcarpet"
           }
          ],
          "heatmap": [
           {
            "colorbar": {
             "outlinewidth": 0,
             "ticks": ""
            },
            "colorscale": [
             [
              0,
              "#0d0887"
             ],
             [
              0.1111111111111111,
              "#46039f"
             ],
             [
              0.2222222222222222,
              "#7201a8"
             ],
             [
              0.3333333333333333,
              "#9c179e"
             ],
             [
              0.4444444444444444,
              "#bd3786"
             ],
             [
              0.5555555555555556,
              "#d8576b"
             ],
             [
              0.6666666666666666,
              "#ed7953"
             ],
             [
              0.7777777777777778,
              "#fb9f3a"
             ],
             [
              0.8888888888888888,
              "#fdca26"
             ],
             [
              1,
              "#f0f921"
             ]
            ],
            "type": "heatmap"
           }
          ],
          "heatmapgl": [
           {
            "colorbar": {
             "outlinewidth": 0,
             "ticks": ""
            },
            "colorscale": [
             [
              0,
              "#0d0887"
             ],
             [
              0.1111111111111111,
              "#46039f"
             ],
             [
              0.2222222222222222,
              "#7201a8"
             ],
             [
              0.3333333333333333,
              "#9c179e"
             ],
             [
              0.4444444444444444,
              "#bd3786"
             ],
             [
              0.5555555555555556,
              "#d8576b"
             ],
             [
              0.6666666666666666,
              "#ed7953"
             ],
             [
              0.7777777777777778,
              "#fb9f3a"
             ],
             [
              0.8888888888888888,
              "#fdca26"
             ],
             [
              1,
              "#f0f921"
             ]
            ],
            "type": "heatmapgl"
           }
          ],
          "histogram": [
           {
            "marker": {
             "pattern": {
              "fillmode": "overlay",
              "size": 10,
              "solidity": 0.2
             }
            },
            "type": "histogram"
           }
          ],
          "histogram2d": [
           {
            "colorbar": {
             "outlinewidth": 0,
             "ticks": ""
            },
            "colorscale": [
             [
              0,
              "#0d0887"
             ],
             [
              0.1111111111111111,
              "#46039f"
             ],
             [
              0.2222222222222222,
              "#7201a8"
             ],
             [
              0.3333333333333333,
              "#9c179e"
             ],
             [
              0.4444444444444444,
              "#bd3786"
             ],
             [
              0.5555555555555556,
              "#d8576b"
             ],
             [
              0.6666666666666666,
              "#ed7953"
             ],
             [
              0.7777777777777778,
              "#fb9f3a"
             ],
             [
              0.8888888888888888,
              "#fdca26"
             ],
             [
              1,
              "#f0f921"
             ]
            ],
            "type": "histogram2d"
           }
          ],
          "histogram2dcontour": [
           {
            "colorbar": {
             "outlinewidth": 0,
             "ticks": ""
            },
            "colorscale": [
             [
              0,
              "#0d0887"
             ],
             [
              0.1111111111111111,
              "#46039f"
             ],
             [
              0.2222222222222222,
              "#7201a8"
             ],
             [
              0.3333333333333333,
              "#9c179e"
             ],
             [
              0.4444444444444444,
              "#bd3786"
             ],
             [
              0.5555555555555556,
              "#d8576b"
             ],
             [
              0.6666666666666666,
              "#ed7953"
             ],
             [
              0.7777777777777778,
              "#fb9f3a"
             ],
             [
              0.8888888888888888,
              "#fdca26"
             ],
             [
              1,
              "#f0f921"
             ]
            ],
            "type": "histogram2dcontour"
           }
          ],
          "mesh3d": [
           {
            "colorbar": {
             "outlinewidth": 0,
             "ticks": ""
            },
            "type": "mesh3d"
           }
          ],
          "parcoords": [
           {
            "line": {
             "colorbar": {
              "outlinewidth": 0,
              "ticks": ""
             }
            },
            "type": "parcoords"
           }
          ],
          "pie": [
           {
            "automargin": true,
            "type": "pie"
           }
          ],
          "scatter": [
           {
            "fillpattern": {
             "fillmode": "overlay",
             "size": 10,
             "solidity": 0.2
            },
            "type": "scatter"
           }
          ],
          "scatter3d": [
           {
            "line": {
             "colorbar": {
              "outlinewidth": 0,
              "ticks": ""
             }
            },
            "marker": {
             "colorbar": {
              "outlinewidth": 0,
              "ticks": ""
             }
            },
            "type": "scatter3d"
           }
          ],
          "scattercarpet": [
           {
            "marker": {
             "colorbar": {
              "outlinewidth": 0,
              "ticks": ""
             }
            },
            "type": "scattercarpet"
           }
          ],
          "scattergeo": [
           {
            "marker": {
             "colorbar": {
              "outlinewidth": 0,
              "ticks": ""
             }
            },
            "type": "scattergeo"
           }
          ],
          "scattergl": [
           {
            "marker": {
             "colorbar": {
              "outlinewidth": 0,
              "ticks": ""
             }
            },
            "type": "scattergl"
           }
          ],
          "scattermapbox": [
           {
            "marker": {
             "colorbar": {
              "outlinewidth": 0,
              "ticks": ""
             }
            },
            "type": "scattermapbox"
           }
          ],
          "scatterpolar": [
           {
            "marker": {
             "colorbar": {
              "outlinewidth": 0,
              "ticks": ""
             }
            },
            "type": "scatterpolar"
           }
          ],
          "scatterpolargl": [
           {
            "marker": {
             "colorbar": {
              "outlinewidth": 0,
              "ticks": ""
             }
            },
            "type": "scatterpolargl"
           }
          ],
          "scatterternary": [
           {
            "marker": {
             "colorbar": {
              "outlinewidth": 0,
              "ticks": ""
             }
            },
            "type": "scatterternary"
           }
          ],
          "surface": [
           {
            "colorbar": {
             "outlinewidth": 0,
             "ticks": ""
            },
            "colorscale": [
             [
              0,
              "#0d0887"
             ],
             [
              0.1111111111111111,
              "#46039f"
             ],
             [
              0.2222222222222222,
              "#7201a8"
             ],
             [
              0.3333333333333333,
              "#9c179e"
             ],
             [
              0.4444444444444444,
              "#bd3786"
             ],
             [
              0.5555555555555556,
              "#d8576b"
             ],
             [
              0.6666666666666666,
              "#ed7953"
             ],
             [
              0.7777777777777778,
              "#fb9f3a"
             ],
             [
              0.8888888888888888,
              "#fdca26"
             ],
             [
              1,
              "#f0f921"
             ]
            ],
            "type": "surface"
           }
          ],
          "table": [
           {
            "cells": {
             "fill": {
              "color": "#EBF0F8"
             },
             "line": {
              "color": "white"
             }
            },
            "header": {
             "fill": {
              "color": "#C8D4E3"
             },
             "line": {
              "color": "white"
             }
            },
            "type": "table"
           }
          ]
         },
         "layout": {
          "annotationdefaults": {
           "arrowcolor": "#2a3f5f",
           "arrowhead": 0,
           "arrowwidth": 1
          },
          "autotypenumbers": "strict",
          "coloraxis": {
           "colorbar": {
            "outlinewidth": 0,
            "ticks": ""
           }
          },
          "colorscale": {
           "diverging": [
            [
             0,
             "#8e0152"
            ],
            [
             0.1,
             "#c51b7d"
            ],
            [
             0.2,
             "#de77ae"
            ],
            [
             0.3,
             "#f1b6da"
            ],
            [
             0.4,
             "#fde0ef"
            ],
            [
             0.5,
             "#f7f7f7"
            ],
            [
             0.6,
             "#e6f5d0"
            ],
            [
             0.7,
             "#b8e186"
            ],
            [
             0.8,
             "#7fbc41"
            ],
            [
             0.9,
             "#4d9221"
            ],
            [
             1,
             "#276419"
            ]
           ],
           "sequential": [
            [
             0,
             "#0d0887"
            ],
            [
             0.1111111111111111,
             "#46039f"
            ],
            [
             0.2222222222222222,
             "#7201a8"
            ],
            [
             0.3333333333333333,
             "#9c179e"
            ],
            [
             0.4444444444444444,
             "#bd3786"
            ],
            [
             0.5555555555555556,
             "#d8576b"
            ],
            [
             0.6666666666666666,
             "#ed7953"
            ],
            [
             0.7777777777777778,
             "#fb9f3a"
            ],
            [
             0.8888888888888888,
             "#fdca26"
            ],
            [
             1,
             "#f0f921"
            ]
           ],
           "sequentialminus": [
            [
             0,
             "#0d0887"
            ],
            [
             0.1111111111111111,
             "#46039f"
            ],
            [
             0.2222222222222222,
             "#7201a8"
            ],
            [
             0.3333333333333333,
             "#9c179e"
            ],
            [
             0.4444444444444444,
             "#bd3786"
            ],
            [
             0.5555555555555556,
             "#d8576b"
            ],
            [
             0.6666666666666666,
             "#ed7953"
            ],
            [
             0.7777777777777778,
             "#fb9f3a"
            ],
            [
             0.8888888888888888,
             "#fdca26"
            ],
            [
             1,
             "#f0f921"
            ]
           ]
          },
          "colorway": [
           "#636efa",
           "#EF553B",
           "#00cc96",
           "#ab63fa",
           "#FFA15A",
           "#19d3f3",
           "#FF6692",
           "#B6E880",
           "#FF97FF",
           "#FECB52"
          ],
          "font": {
           "color": "#2a3f5f"
          },
          "geo": {
           "bgcolor": "white",
           "lakecolor": "white",
           "landcolor": "#E5ECF6",
           "showlakes": true,
           "showland": true,
           "subunitcolor": "white"
          },
          "hoverlabel": {
           "align": "left"
          },
          "hovermode": "closest",
          "mapbox": {
           "style": "light"
          },
          "paper_bgcolor": "white",
          "plot_bgcolor": "#E5ECF6",
          "polar": {
           "angularaxis": {
            "gridcolor": "white",
            "linecolor": "white",
            "ticks": ""
           },
           "bgcolor": "#E5ECF6",
           "radialaxis": {
            "gridcolor": "white",
            "linecolor": "white",
            "ticks": ""
           }
          },
          "scene": {
           "xaxis": {
            "backgroundcolor": "#E5ECF6",
            "gridcolor": "white",
            "gridwidth": 2,
            "linecolor": "white",
            "showbackground": true,
            "ticks": "",
            "zerolinecolor": "white"
           },
           "yaxis": {
            "backgroundcolor": "#E5ECF6",
            "gridcolor": "white",
            "gridwidth": 2,
            "linecolor": "white",
            "showbackground": true,
            "ticks": "",
            "zerolinecolor": "white"
           },
           "zaxis": {
            "backgroundcolor": "#E5ECF6",
            "gridcolor": "white",
            "gridwidth": 2,
            "linecolor": "white",
            "showbackground": true,
            "ticks": "",
            "zerolinecolor": "white"
           }
          },
          "shapedefaults": {
           "line": {
            "color": "#2a3f5f"
           }
          },
          "ternary": {
           "aaxis": {
            "gridcolor": "white",
            "linecolor": "white",
            "ticks": ""
           },
           "baxis": {
            "gridcolor": "white",
            "linecolor": "white",
            "ticks": ""
           },
           "bgcolor": "#E5ECF6",
           "caxis": {
            "gridcolor": "white",
            "linecolor": "white",
            "ticks": ""
           }
          },
          "title": {
           "x": 0.05
          },
          "xaxis": {
           "automargin": true,
           "gridcolor": "white",
           "linecolor": "white",
           "ticks": "",
           "title": {
            "standoff": 15
           },
           "zerolinecolor": "white",
           "zerolinewidth": 2
          },
          "yaxis": {
           "automargin": true,
           "gridcolor": "white",
           "linecolor": "white",
           "ticks": "",
           "title": {
            "standoff": 15
           },
           "zerolinecolor": "white",
           "zerolinewidth": 2
          }
         }
        },
        "title": {
         "text": "Route Count of Each Combination of Models",
         "x": 0.5,
         "y": 0.07
        },
        "width": 800,
        "xaxis": {
         "anchor": "y",
         "constrain": "domain",
         "domain": [
          0,
          1
         ],
         "scaleanchor": "y",
         "side": "top",
         "title": {
          "text": "Model B"
         }
        },
        "yaxis": {
         "anchor": "x",
         "autorange": "reversed",
         "constrain": "domain",
         "domain": [
          0,
          1
         ],
         "title": {
          "text": "Model A"
         }
        }
       }
      }
     },
     "metadata": {},
     "output_type": "display_data"
    }
   ],
   "source": [
    "route_df = pd.DataFrame([r for r in routes if r], columns=[\"model_a\", \"model_b\"])\n",
    "\n",
    "\n",
    "def visualize_route_count(df, title, show_num_models=40):\n",
    "    route_counts = pd.pivot_table(df, index=\"model_a\", columns=\"model_b\", aggfunc=\"size\", fill_value=0)\n",
    "    ordering = route_counts.sum().sort_values(ascending=False).index\n",
    "    ordering = ordering[:show_num_models]\n",
    "    fig = px.imshow(route_counts.loc[ordering, ordering], title=title, text_auto=True)\n",
    "    fig.update_layout(\n",
    "        xaxis_title=\"Model B\",\n",
    "        yaxis_title=\"Model A\",\n",
    "        xaxis_side=\"top\",\n",
    "        height=800,\n",
    "        width=800,\n",
    "        title_y=0.07,\n",
    "        title_x=0.5,\n",
    "        font=dict(size=10),\n",
    "    )\n",
    "    fig.update_traces(hovertemplate=\"Model A: %{y}<br>Model B: %{x}<br>Count: %{z}<extra></extra>\")\n",
    "    return fig\n",
    "\n",
    "\n",
    "visualize_route_count(route_df, title=\"Route Count of Each Combination of Models\", show_num_models=30)"
   ]
  },
  {
   "cell_type": "code",
   "execution_count": 6,
   "metadata": {},
   "outputs": [
    {
     "data": {
      "application/vnd.plotly.v1+json": {
       "config": {
        "plotlyServerURL": "https://plot.ly"
       },
       "data": [
        {
         "name": "Battle Count",
         "type": "bar",
         "x": [
          "llama-3-70b-instruct",
          "claude-3-opus-20240229",
          "claude-3-sonnet-20240229",
          "claude-3-haiku-20240307",
          "llama-3-8b-instruct",
          "gpt-4-1106-preview",
          "gpt-4-0613",
          "gpt-4-0125-preview",
          "gpt-4-turbo-2024-04-09",
          "command-r-plus",
          "gpt-4o-2024-05-13",
          "mixtral-8x7b-instruct-v0.1",
          "gemini-1.5-pro-api-0514",
          "gpt-3.5-turbo-0125",
          "mistral-large-2402",
          "reka-core-20240501",
          "command-r",
          "gemini-1.5-flash-api-0514",
          "gpt-4-0314",
          "gemini-1.5-pro-api-0409-preview",
          "gemini-advanced-0514",
          "yi-large-preview",
          "mixtral-8x22b-instruct-v0.1",
          "claude-3-5-sonnet-20240620",
          "qwen1.5-72b-chat",
          "llama-2-70b-chat",
          "gpt-3.5-turbo-0613",
          "claude-2.1",
          "mistral-medium",
          "qwen2-72b-instruct",
          "snowflake-arctic-instruct",
          "dbrx-instruct-preview",
          "gemma-2-27b-it",
          "qwen1.5-110b-chat",
          "reka-flash-21b-20240226",
          "qwen-max-0428",
          "gemma-2-9b-it",
          "yi-1.5-34b-chat",
          "gemma-1.1-7b-it",
          "vicuna-33b",
          "qwen1.5-32b-chat",
          "phi-3-medium-4k-instruct",
          "phi-3-mini-128k-instruct",
          "claude-1",
          "phi-3-mini-4k-instruct",
          "nemotron-4-340b-instruct",
          "claude-instant-1",
          "reka-flash-preview-20240611",
          "mistral-7b-instruct-v0.2",
          "gemini-1.5-pro-exp-0801",
          "vicuna-13b",
          "llama-2-13b-chat",
          "gpt-4o-mini-2024-07-18",
          "llama-3.1-405b-instruct",
          "gemini-pro-dev-api",
          "qwen1.5-14b-chat",
          "phi-3-small-8k-instruct",
          "gpt-3.5-turbo-1106",
          "yi-large",
          "starling-lm-7b-beta",
          "deepseek-v2-api-0628",
          "reka-flash-21b-20240226-online",
          "yi-34b-chat",
          "deepseek-coder-v2",
          "llama-2-7b-chat",
          "chatgpt-4o-latest",
          "llama-3.1-70b-instruct",
          "openchat-3.5-0106",
          "claude-2.0",
          "llama-3.1-8b-instruct",
          "mistral-next",
          "bard-jan-24-gemini-pro",
          "mistral-large-2407",
          "athene-70b-0725",
          "gemma-1.1-2b-it",
          "zephyr-7b-beta",
          "gemma-2-2b-it",
          "phi-3-mini-4k-instruct-june-2024",
          "starling-lm-7b-alpha",
          "glm-4-0520",
          "gpt-4o-2024-08-06",
          "gemma-7b-it",
          "mistral-7b-instruct",
          "palm-2",
          "wizardlm-70b",
          "openchat-3.5",
          "qwen1.5-4b-chat",
          "glm-4-0116",
          "codellama-34b-instruct",
          "wizardlm-13b",
          "reka-flash-20240722",
          "koala-13b",
          "vicuna-7b",
          "reka-core-20240722",
          "pplx-70b-online",
          "tulu-2-dpo-70b",
          "gemini-pro",
          "olmo-7b-instruct",
          "oasst-pythia-12b",
          "pplx-7b-online",
          "alpaca-13b",
          "gpt-3.5-turbo-0314",
          "stripedhyena-nous-7b",
          "openhermes-2.5-mistral-7b",
          "qwen-14b-chat",
          "chatglm-6b",
          "deepseek-llm-67b-chat",
          "RWKV-4-Raven-14B",
          "gemma-2b-it",
          "qwen1.5-7b-chat",
          "zephyr-orpo-141b-A35b-v0.1",
          "chatglm3-6b",
          "fastchat-t5-3b",
          "solar-10.7b-instruct-v1.0",
          "mpt-7b-chat",
          "deepseek-coder-v2-0724",
          "nous-hermes-2-mixtral-8x7b-dpo",
          "llama2-70b-steerlm-chat",
          "dolly-v2-12b",
          "stablelm-tuned-alpha-7b",
          "guanaco-33b",
          "chatglm2-6b",
          "mpt-30b-chat",
          "llama-13b",
          "zephyr-7b-alpha",
          "gpt4all-13b-snoozy",
          "dolphin-2.2.1-mistral-7b",
          "falcon-180b-chat",
          "codellama-70b-instruct"
         ],
         "xaxis": "x",
         "y": [
          161827,
          155944,
          113106,
          109888,
          107100,
          92488,
          89617,
          85867,
          84505,
          80911,
          77509,
          76064,
          69418,
          68914,
          64938,
          62688,
          56373,
          56129,
          55979,
          55654,
          52155,
          51739,
          50256,
          47703,
          40643,
          39631,
          38959,
          37702,
          35555,
          34410,
          34197,
          33736,
          27838,
          27508,
          25792,
          25748,
          25248,
          25156,
          25095,
          22938,
          22783,
          22427,
          21617,
          21172,
          21129,
          20669,
          20633,
          20477,
          20074,
          20071,
          19794,
          19740,
          19370,
          18897,
          18790,
          18666,
          18505,
          17026,
          16672,
          16667,
          16165,
          16056,
          15946,
          15801,
          14559,
          14514,
          13604,
          12987,
          12774,
          12671,
          12377,
          11827,
          11517,
          11476,
          11363,
          11330,
          10509,
          10484,
          10422,
          10239,
          9761,
          9178,
          9145,
          8745,
          8391,
          8117,
          7811,
          7579,
          7508,
          7192,
          7156,
          7038,
          7022,
          6974,
          6890,
          6660,
          6565,
          6496,
          6382,
          6338,
          5874,
          5655,
          5270,
          5091,
          5070,
          4995,
          4981,
          4938,
          4921,
          4864,
          4858,
          4763,
          4304,
          4291,
          4018,
          3997,
          3843,
          3636,
          3484,
          3334,
          3003,
          2707,
          2650,
          2443,
          1815,
          1787,
          1714,
          1325,
          1193
         ],
         "yaxis": "y"
        },
        {
         "name": "Route Count",
         "type": "bar",
         "x": [
          "gpt-4-1106-preview",
          "gpt-4-0125-preview",
          "gpt-4-0314",
          "claude-3-opus-20240229",
          "gpt-4-turbo-2024-04-09",
          "claude-1",
          "bard-jan-24-gemini-pro",
          "gemini-1.5-pro-api-0409-preview",
          "gpt-4-0613",
          "claude-3-sonnet-20240229",
          "claude-2.0",
          "mistral-medium",
          "gpt-4o-2024-05-13",
          "command-r-plus",
          "gpt-3.5-turbo-0613",
          "claude-instant-1",
          "claude-3-haiku-20240307",
          "llama-3-70b-instruct",
          "mistral-large-2402",
          "gpt-3.5-turbo-0314",
          "qwen1.5-72b-chat",
          "claude-2.1",
          "mixtral-8x7b-instruct-v0.1",
          "vicuna-33b",
          "wizardlm-70b",
          "gemini-advanced-0514",
          "gemini-pro-dev-api",
          "gemini-1.5-pro-api-0514",
          "llama-2-70b-chat",
          "yi-34b-chat",
          "starling-lm-7b-alpha",
          "command-r",
          "pplx-70b-online",
          "gemini-1.5-flash-api-0514",
          "reka-core-20240501",
          "mistral-next",
          "qwen-max-0428",
          "tulu-2-dpo-70b",
          "yi-large-preview",
          "dolphin-2.2.1-mistral-7b",
          "gpt-3.5-turbo-0125",
          "llama2-70b-steerlm-chat",
          "reka-flash-21b-20240226",
          "nous-hermes-2-mixtral-8x7b-dpo",
          "vicuna-13b",
          "starling-lm-7b-beta",
          "solar-10.7b-instruct-v1.0",
          "gemini-pro",
          "wizardlm-13b",
          "llama-3-8b-instruct",
          "qwen1.5-32b-chat",
          "mpt-30b-chat",
          "guanaco-33b",
          "openchat-3.5",
          "gpt-3.5-turbo-1106",
          "mixtral-8x22b-instruct-v0.1",
          "reka-flash-21b-20240226-online",
          "deepseek-llm-67b-chat",
          "qwen1.5-7b-chat",
          "qwen-14b-chat",
          "llama-2-7b-chat",
          "qwen1.5-110b-chat",
          "claude-3-5-sonnet-20240620",
          "llama-2-13b-chat",
          "openchat-3.5-0106",
          "mistral-7b-instruct-v0.2",
          "pplx-7b-online",
          "openhermes-2.5-mistral-7b",
          "zephyr-7b-alpha",
          "gemma-1.1-2b-it",
          "dbrx-instruct-preview",
          "koala-13b",
          "zephyr-7b-beta",
          "codellama-70b-instruct",
          "codellama-34b-instruct",
          "vicuna-7b",
          "glm-4-0116",
          "qwen1.5-14b-chat",
          "palm-2",
          "stripedhyena-nous-7b",
          "zephyr-orpo-141b-A35b-v0.1",
          "RWKV-4-Raven-14B",
          "gemma-1.1-7b-it",
          "mistral-7b-instruct",
          "yi-1.5-34b-chat",
          "falcon-180b-chat",
          "snowflake-arctic-instruct",
          "yi-large",
          "gemma-7b-it",
          "alpaca-13b",
          "mpt-7b-chat",
          "nemotron-4-340b-instruct",
          "olmo-7b-instruct",
          "gpt4all-13b-snoozy",
          "gemma-2-9b-it",
          "qwen2-72b-instruct",
          "oasst-pythia-12b",
          "chatglm3-6b",
          "phi-3-mini-128k-instruct",
          "chatglm-6b",
          "glm-4-0520",
          "chatglm2-6b",
          "fastchat-t5-3b",
          "qwen1.5-4b-chat",
          "reka-flash-preview-20240611",
          "deepseek-coder-v2",
          "gemma-2b-it",
          "gemma-2-27b-it",
          "llama-13b",
          "stablelm-tuned-alpha-7b",
          "dolly-v2-12b",
          "phi-3-mini-4k-instruct",
          "phi-3-small-8k-instruct",
          "phi-3-medium-4k-instruct",
          "phi-3-mini-4k-instruct-june-2024",
          "athene-70b-0725",
          "gpt-4o-mini-2024-07-18",
          "gemini-1.5-pro-exp-0801",
          "llama-3.1-8b-instruct",
          "llama-3.1-405b-instruct",
          "deepseek-coder-v2-0724",
          "deepseek-v2-api-0628",
          "gemma-2-2b-it",
          "llama-3.1-70b-instruct",
          "chatgpt-4o-latest",
          "mistral-large-2407",
          "reka-core-20240722",
          "reka-flash-20240722",
          "gpt-4o-2024-08-06"
         ],
         "xaxis": "x2",
         "y": [
          19406,
          14670,
          12832,
          12359,
          10168,
          9378,
          9356,
          9171,
          7803,
          6896,
          5409,
          5260,
          5140,
          5134,
          4998,
          4880,
          4775,
          4635,
          4612,
          4249,
          4216,
          4063,
          3945,
          3830,
          3770,
          3656,
          3641,
          3587,
          3177,
          3136,
          3092,
          3032,
          3025,
          2932,
          2907,
          2873,
          2852,
          2825,
          2825,
          2760,
          2741,
          2620,
          2605,
          2368,
          2347,
          2332,
          2266,
          2247,
          2232,
          2220,
          2219,
          2193,
          2187,
          2174,
          2172,
          2152,
          2111,
          2083,
          2069,
          2023,
          1997,
          1981,
          1878,
          1853,
          1843,
          1791,
          1791,
          1731,
          1672,
          1662,
          1657,
          1644,
          1635,
          1575,
          1535,
          1509,
          1503,
          1455,
          1449,
          1253,
          1241,
          1238,
          1235,
          1234,
          1172,
          1168,
          1132,
          1055,
          1050,
          877,
          837,
          824,
          815,
          810,
          805,
          798,
          796,
          792,
          749,
          734,
          732,
          689,
          682,
          668,
          667,
          646,
          642,
          631,
          615,
          598,
          550,
          433,
          338,
          329,
          109,
          34,
          33,
          28,
          27,
          25,
          25,
          22,
          22,
          21,
          20,
          19,
          15,
          12,
          6
         ],
         "yaxis": "y2"
        }
       ],
       "layout": {
        "annotations": [
         {
          "font": {
           "size": 16
          },
          "showarrow": false,
          "text": "Battle Count for Each Model",
          "x": 0.5,
          "xanchor": "center",
          "xref": "paper",
          "y": 1,
          "yanchor": "bottom",
          "yref": "paper"
         },
         {
          "font": {
           "size": 16
          },
          "showarrow": false,
          "text": "Route Count for Each Model",
          "x": 0.5,
          "xanchor": "center",
          "xref": "paper",
          "y": 0.375,
          "yanchor": "bottom",
          "yref": "paper"
         }
        ],
        "height": 1000,
        "showlegend": false,
        "template": {
         "data": {
          "bar": [
           {
            "error_x": {
             "color": "#2a3f5f"
            },
            "error_y": {
             "color": "#2a3f5f"
            },
            "marker": {
             "line": {
              "color": "#E5ECF6",
              "width": 0.5
             },
             "pattern": {
              "fillmode": "overlay",
              "size": 10,
              "solidity": 0.2
             }
            },
            "type": "bar"
           }
          ],
          "barpolar": [
           {
            "marker": {
             "line": {
              "color": "#E5ECF6",
              "width": 0.5
             },
             "pattern": {
              "fillmode": "overlay",
              "size": 10,
              "solidity": 0.2
             }
            },
            "type": "barpolar"
           }
          ],
          "carpet": [
           {
            "aaxis": {
             "endlinecolor": "#2a3f5f",
             "gridcolor": "white",
             "linecolor": "white",
             "minorgridcolor": "white",
             "startlinecolor": "#2a3f5f"
            },
            "baxis": {
             "endlinecolor": "#2a3f5f",
             "gridcolor": "white",
             "linecolor": "white",
             "minorgridcolor": "white",
             "startlinecolor": "#2a3f5f"
            },
            "type": "carpet"
           }
          ],
          "choropleth": [
           {
            "colorbar": {
             "outlinewidth": 0,
             "ticks": ""
            },
            "type": "choropleth"
           }
          ],
          "contour": [
           {
            "colorbar": {
             "outlinewidth": 0,
             "ticks": ""
            },
            "colorscale": [
             [
              0,
              "#0d0887"
             ],
             [
              0.1111111111111111,
              "#46039f"
             ],
             [
              0.2222222222222222,
              "#7201a8"
             ],
             [
              0.3333333333333333,
              "#9c179e"
             ],
             [
              0.4444444444444444,
              "#bd3786"
             ],
             [
              0.5555555555555556,
              "#d8576b"
             ],
             [
              0.6666666666666666,
              "#ed7953"
             ],
             [
              0.7777777777777778,
              "#fb9f3a"
             ],
             [
              0.8888888888888888,
              "#fdca26"
             ],
             [
              1,
              "#f0f921"
             ]
            ],
            "type": "contour"
           }
          ],
          "contourcarpet": [
           {
            "colorbar": {
             "outlinewidth": 0,
             "ticks": ""
            },
            "type": "contourcarpet"
           }
          ],
          "heatmap": [
           {
            "colorbar": {
             "outlinewidth": 0,
             "ticks": ""
            },
            "colorscale": [
             [
              0,
              "#0d0887"
             ],
             [
              0.1111111111111111,
              "#46039f"
             ],
             [
              0.2222222222222222,
              "#7201a8"
             ],
             [
              0.3333333333333333,
              "#9c179e"
             ],
             [
              0.4444444444444444,
              "#bd3786"
             ],
             [
              0.5555555555555556,
              "#d8576b"
             ],
             [
              0.6666666666666666,
              "#ed7953"
             ],
             [
              0.7777777777777778,
              "#fb9f3a"
             ],
             [
              0.8888888888888888,
              "#fdca26"
             ],
             [
              1,
              "#f0f921"
             ]
            ],
            "type": "heatmap"
           }
          ],
          "heatmapgl": [
           {
            "colorbar": {
             "outlinewidth": 0,
             "ticks": ""
            },
            "colorscale": [
             [
              0,
              "#0d0887"
             ],
             [
              0.1111111111111111,
              "#46039f"
             ],
             [
              0.2222222222222222,
              "#7201a8"
             ],
             [
              0.3333333333333333,
              "#9c179e"
             ],
             [
              0.4444444444444444,
              "#bd3786"
             ],
             [
              0.5555555555555556,
              "#d8576b"
             ],
             [
              0.6666666666666666,
              "#ed7953"
             ],
             [
              0.7777777777777778,
              "#fb9f3a"
             ],
             [
              0.8888888888888888,
              "#fdca26"
             ],
             [
              1,
              "#f0f921"
             ]
            ],
            "type": "heatmapgl"
           }
          ],
          "histogram": [
           {
            "marker": {
             "pattern": {
              "fillmode": "overlay",
              "size": 10,
              "solidity": 0.2
             }
            },
            "type": "histogram"
           }
          ],
          "histogram2d": [
           {
            "colorbar": {
             "outlinewidth": 0,
             "ticks": ""
            },
            "colorscale": [
             [
              0,
              "#0d0887"
             ],
             [
              0.1111111111111111,
              "#46039f"
             ],
             [
              0.2222222222222222,
              "#7201a8"
             ],
             [
              0.3333333333333333,
              "#9c179e"
             ],
             [
              0.4444444444444444,
              "#bd3786"
             ],
             [
              0.5555555555555556,
              "#d8576b"
             ],
             [
              0.6666666666666666,
              "#ed7953"
             ],
             [
              0.7777777777777778,
              "#fb9f3a"
             ],
             [
              0.8888888888888888,
              "#fdca26"
             ],
             [
              1,
              "#f0f921"
             ]
            ],
            "type": "histogram2d"
           }
          ],
          "histogram2dcontour": [
           {
            "colorbar": {
             "outlinewidth": 0,
             "ticks": ""
            },
            "colorscale": [
             [
              0,
              "#0d0887"
             ],
             [
              0.1111111111111111,
              "#46039f"
             ],
             [
              0.2222222222222222,
              "#7201a8"
             ],
             [
              0.3333333333333333,
              "#9c179e"
             ],
             [
              0.4444444444444444,
              "#bd3786"
             ],
             [
              0.5555555555555556,
              "#d8576b"
             ],
             [
              0.6666666666666666,
              "#ed7953"
             ],
             [
              0.7777777777777778,
              "#fb9f3a"
             ],
             [
              0.8888888888888888,
              "#fdca26"
             ],
             [
              1,
              "#f0f921"
             ]
            ],
            "type": "histogram2dcontour"
           }
          ],
          "mesh3d": [
           {
            "colorbar": {
             "outlinewidth": 0,
             "ticks": ""
            },
            "type": "mesh3d"
           }
          ],
          "parcoords": [
           {
            "line": {
             "colorbar": {
              "outlinewidth": 0,
              "ticks": ""
             }
            },
            "type": "parcoords"
           }
          ],
          "pie": [
           {
            "automargin": true,
            "type": "pie"
           }
          ],
          "scatter": [
           {
            "fillpattern": {
             "fillmode": "overlay",
             "size": 10,
             "solidity": 0.2
            },
            "type": "scatter"
           }
          ],
          "scatter3d": [
           {
            "line": {
             "colorbar": {
              "outlinewidth": 0,
              "ticks": ""
             }
            },
            "marker": {
             "colorbar": {
              "outlinewidth": 0,
              "ticks": ""
             }
            },
            "type": "scatter3d"
           }
          ],
          "scattercarpet": [
           {
            "marker": {
             "colorbar": {
              "outlinewidth": 0,
              "ticks": ""
             }
            },
            "type": "scattercarpet"
           }
          ],
          "scattergeo": [
           {
            "marker": {
             "colorbar": {
              "outlinewidth": 0,
              "ticks": ""
             }
            },
            "type": "scattergeo"
           }
          ],
          "scattergl": [
           {
            "marker": {
             "colorbar": {
              "outlinewidth": 0,
              "ticks": ""
             }
            },
            "type": "scattergl"
           }
          ],
          "scattermapbox": [
           {
            "marker": {
             "colorbar": {
              "outlinewidth": 0,
              "ticks": ""
             }
            },
            "type": "scattermapbox"
           }
          ],
          "scatterpolar": [
           {
            "marker": {
             "colorbar": {
              "outlinewidth": 0,
              "ticks": ""
             }
            },
            "type": "scatterpolar"
           }
          ],
          "scatterpolargl": [
           {
            "marker": {
             "colorbar": {
              "outlinewidth": 0,
              "ticks": ""
             }
            },
            "type": "scatterpolargl"
           }
          ],
          "scatterternary": [
           {
            "marker": {
             "colorbar": {
              "outlinewidth": 0,
              "ticks": ""
             }
            },
            "type": "scatterternary"
           }
          ],
          "surface": [
           {
            "colorbar": {
             "outlinewidth": 0,
             "ticks": ""
            },
            "colorscale": [
             [
              0,
              "#0d0887"
             ],
             [
              0.1111111111111111,
              "#46039f"
             ],
             [
              0.2222222222222222,
              "#7201a8"
             ],
             [
              0.3333333333333333,
              "#9c179e"
             ],
             [
              0.4444444444444444,
              "#bd3786"
             ],
             [
              0.5555555555555556,
              "#d8576b"
             ],
             [
              0.6666666666666666,
              "#ed7953"
             ],
             [
              0.7777777777777778,
              "#fb9f3a"
             ],
             [
              0.8888888888888888,
              "#fdca26"
             ],
             [
              1,
              "#f0f921"
             ]
            ],
            "type": "surface"
           }
          ],
          "table": [
           {
            "cells": {
             "fill": {
              "color": "#EBF0F8"
             },
             "line": {
              "color": "white"
             }
            },
            "header": {
             "fill": {
              "color": "#C8D4E3"
             },
             "line": {
              "color": "white"
             }
            },
            "type": "table"
           }
          ]
         },
         "layout": {
          "annotationdefaults": {
           "arrowcolor": "#2a3f5f",
           "arrowhead": 0,
           "arrowwidth": 1
          },
          "autotypenumbers": "strict",
          "coloraxis": {
           "colorbar": {
            "outlinewidth": 0,
            "ticks": ""
           }
          },
          "colorscale": {
           "diverging": [
            [
             0,
             "#8e0152"
            ],
            [
             0.1,
             "#c51b7d"
            ],
            [
             0.2,
             "#de77ae"
            ],
            [
             0.3,
             "#f1b6da"
            ],
            [
             0.4,
             "#fde0ef"
            ],
            [
             0.5,
             "#f7f7f7"
            ],
            [
             0.6,
             "#e6f5d0"
            ],
            [
             0.7,
             "#b8e186"
            ],
            [
             0.8,
             "#7fbc41"
            ],
            [
             0.9,
             "#4d9221"
            ],
            [
             1,
             "#276419"
            ]
           ],
           "sequential": [
            [
             0,
             "#0d0887"
            ],
            [
             0.1111111111111111,
             "#46039f"
            ],
            [
             0.2222222222222222,
             "#7201a8"
            ],
            [
             0.3333333333333333,
             "#9c179e"
            ],
            [
             0.4444444444444444,
             "#bd3786"
            ],
            [
             0.5555555555555556,
             "#d8576b"
            ],
            [
             0.6666666666666666,
             "#ed7953"
            ],
            [
             0.7777777777777778,
             "#fb9f3a"
            ],
            [
             0.8888888888888888,
             "#fdca26"
            ],
            [
             1,
             "#f0f921"
            ]
           ],
           "sequentialminus": [
            [
             0,
             "#0d0887"
            ],
            [
             0.1111111111111111,
             "#46039f"
            ],
            [
             0.2222222222222222,
             "#7201a8"
            ],
            [
             0.3333333333333333,
             "#9c179e"
            ],
            [
             0.4444444444444444,
             "#bd3786"
            ],
            [
             0.5555555555555556,
             "#d8576b"
            ],
            [
             0.6666666666666666,
             "#ed7953"
            ],
            [
             0.7777777777777778,
             "#fb9f3a"
            ],
            [
             0.8888888888888888,
             "#fdca26"
            ],
            [
             1,
             "#f0f921"
            ]
           ]
          },
          "colorway": [
           "#636efa",
           "#EF553B",
           "#00cc96",
           "#ab63fa",
           "#FFA15A",
           "#19d3f3",
           "#FF6692",
           "#B6E880",
           "#FF97FF",
           "#FECB52"
          ],
          "font": {
           "color": "#2a3f5f"
          },
          "geo": {
           "bgcolor": "white",
           "lakecolor": "white",
           "landcolor": "#E5ECF6",
           "showlakes": true,
           "showland": true,
           "subunitcolor": "white"
          },
          "hoverlabel": {
           "align": "left"
          },
          "hovermode": "closest",
          "mapbox": {
           "style": "light"
          },
          "paper_bgcolor": "white",
          "plot_bgcolor": "#E5ECF6",
          "polar": {
           "angularaxis": {
            "gridcolor": "white",
            "linecolor": "white",
            "ticks": ""
           },
           "bgcolor": "#E5ECF6",
           "radialaxis": {
            "gridcolor": "white",
            "linecolor": "white",
            "ticks": ""
           }
          },
          "scene": {
           "xaxis": {
            "backgroundcolor": "#E5ECF6",
            "gridcolor": "white",
            "gridwidth": 2,
            "linecolor": "white",
            "showbackground": true,
            "ticks": "",
            "zerolinecolor": "white"
           },
           "yaxis": {
            "backgroundcolor": "#E5ECF6",
            "gridcolor": "white",
            "gridwidth": 2,
            "linecolor": "white",
            "showbackground": true,
            "ticks": "",
            "zerolinecolor": "white"
           },
           "zaxis": {
            "backgroundcolor": "#E5ECF6",
            "gridcolor": "white",
            "gridwidth": 2,
            "linecolor": "white",
            "showbackground": true,
            "ticks": "",
            "zerolinecolor": "white"
           }
          },
          "shapedefaults": {
           "line": {
            "color": "#2a3f5f"
           }
          },
          "ternary": {
           "aaxis": {
            "gridcolor": "white",
            "linecolor": "white",
            "ticks": ""
           },
           "baxis": {
            "gridcolor": "white",
            "linecolor": "white",
            "ticks": ""
           },
           "bgcolor": "#E5ECF6",
           "caxis": {
            "gridcolor": "white",
            "linecolor": "white",
            "ticks": ""
           }
          },
          "title": {
           "x": 0.05
          },
          "xaxis": {
           "automargin": true,
           "gridcolor": "white",
           "linecolor": "white",
           "ticks": "",
           "title": {
            "standoff": 15
           },
           "zerolinecolor": "white",
           "zerolinewidth": 2
          },
          "yaxis": {
           "automargin": true,
           "gridcolor": "white",
           "linecolor": "white",
           "ticks": "",
           "title": {
            "standoff": 15
           },
           "zerolinecolor": "white",
           "zerolinewidth": 2
          }
         }
        },
        "title": {
         "text": "Battle Count vs Route Count"
        },
        "xaxis": {
         "anchor": "y",
         "domain": [
          0,
          1
         ],
         "title": {
          "text": "Model"
         }
        },
        "xaxis2": {
         "anchor": "y2",
         "domain": [
          0,
          1
         ],
         "title": {
          "text": "Model"
         }
        },
        "yaxis": {
         "anchor": "x",
         "domain": [
          0.625,
          1
         ],
         "title": {
          "text": "Count"
         }
        },
        "yaxis2": {
         "anchor": "x2",
         "domain": [
          0,
          0.375
         ],
         "title": {
          "text": "Count"
         }
        }
       }
      }
     },
     "metadata": {},
     "output_type": "display_data"
    }
   ],
   "source": [
    "# Battle Count vs Route Count\n",
    "\n",
    "\n",
    "fig = make_subplots(rows=2, cols=1, subplot_titles=(\"Battle Count for Each Model\", \"Route Count for Each Model\"))\n",
    "\n",
    "battle_counts = pd.concat([battles[\"model_a\"], battles[\"model_b\"]]).value_counts()\n",
    "fig.add_trace(go.Bar(x=battle_counts.index, y=battle_counts.values, name=\"Battle Count\"), row=1, col=1)\n",
    "\n",
    "route_counts = pd.concat([route_df[\"model_a\"], route_df[\"model_b\"]]).value_counts()\n",
    "fig.add_trace(go.Bar(x=route_counts.index, y=route_counts.values, name=\"Route Count\"), row=2, col=1)\n",
    "\n",
    "fig.update_layout(height=1000, showlegend=False, title_text=\"Battle Count vs Route Count\")\n",
    "fig.update_xaxes(title_text=\"Model\", row=1, col=1)\n",
    "fig.update_xaxes(title_text=\"Model\", row=2, col=1)\n",
    "fig.update_yaxes(title_text=\"Count\", row=1, col=1)\n",
    "fig.update_yaxes(title_text=\"Count\", row=2, col=1)\n",
    "\n",
    "# Show the figure\n",
    "fig.show()"
   ]
  },
  {
   "cell_type": "code",
   "execution_count": 7,
   "metadata": {},
   "outputs": [
    {
     "name": "stdout",
     "output_type": "stream",
     "text": [
      "--------------------------------------------------\n",
      "Overall\n",
      "--------------------------------------------------\n",
      "RatedModel(model='chatgpt-4o-latest', rating=AnnotatedFloat(value=1512.9990057037976, annotation='Wins: 902, Losses: 540, Ties: 0 (1473.8 to 1521.0)'))\n",
      "RatedModel(model='gemini-1.5-pro-exp-0801', rating=AnnotatedFloat(value=1424.843661942927, annotation='Wins: 1194, Losses: 794, Ties: 0 (1405.7 to 1433.7)'))\n",
      "RatedModel(model='gpt-4o-2024-05-13', rating=AnnotatedFloat(value=1400.6453699114654, annotation='Wins: 4606, Losses: 3049, Ties: 0 (1400.3 to 1403.8)'))\n",
      "RatedModel(model='claude-3-5-sonnet-20240620', rating=AnnotatedFloat(value=1371.1675027896265, annotation='Wins: 2646, Losses: 2005, Ties: 0 (1360.9 to 1377.1)'))\n",
      "RatedModel(model='gpt-4o-mini-2024-07-18', rating=AnnotatedFloat(value=1368.8755648709946, annotation='Wins: 1098, Losses: 814, Ties: 0 (1355.3 to 1374.1)'))\n",
      "...\n",
      "--------------------------------------------------\n",
      "coding\n",
      "--------------------------------------------------\n",
      "RatedModel(model='chatgpt-4o-latest', rating=AnnotatedFloat(value=1508.3068417511956, annotation='Wins: 144, Losses: 91, Ties: 0 (1503.1 to 1511.5)'))\n",
      "RatedModel(model='mistral-large-2407', rating=AnnotatedFloat(value=1494.8055707660385, annotation='Wins: 137, Losses: 93, Ties: 0 (1427.3 to 1506.4)'))\n",
      "RatedModel(model='claude-3-5-sonnet-20240620', rating=AnnotatedFloat(value=1479.3670131888107, annotation='Wins: 539, Losses: 356, Ties: 0 (1440.5 to 1489.2)'))\n",
      "RatedModel(model='gpt-4o-2024-05-13', rating=AnnotatedFloat(value=1406.8639568322012, annotation='Wins: 938, Losses: 623, Ties: 0 (1386.8 to 1456.6)'))\n",
      "RatedModel(model='gemini-1.5-pro-api-0514', rating=AnnotatedFloat(value=1401.9378429062638, annotation='Wins: 771, Losses: 573, Ties: 0 (1381.7 to 1416.7)'))\n",
      "...\n",
      "--------------------------------------------------\n",
      "math\n",
      "--------------------------------------------------\n",
      "RatedModel(model='gemini-1.5-pro-exp-0801', rating=AnnotatedFloat(value=1448.1621532891181, annotation='Wins: 148, Losses: 98, Ties: 0 (1417.5 to 1458.0)'))\n",
      "RatedModel(model='claude-3-5-sonnet-20240620', rating=AnnotatedFloat(value=1434.850856932644, annotation='Wins: 282, Losses: 183, Ties: 0 (1414.8 to 1438.6)'))\n",
      "RatedModel(model='gpt-4o-2024-08-06', rating=AnnotatedFloat(value=1434.4473022374746, annotation='Wins: 88, Losses: 59, Ties: 0 (1403.8 to 1480.8)'))\n",
      "RatedModel(model='gpt-4o-2024-05-13', rating=AnnotatedFloat(value=1433.8417860562563, annotation='Wins: 461, Losses: 302, Ties: 0 (1407.8 to 1441.8)'))\n",
      "RatedModel(model='qwen2-72b-instruct', rating=AnnotatedFloat(value=1422.8586240358572, annotation='Wins: 203, Losses: 131, Ties: 0 (1322.0 to 1435.4)'))\n",
      "...\n"
     ]
    }
   ],
   "source": [
    "# Showcase per-category leaderboards.\n",
    "\n",
    "for category, leaderboard in ranker.leaderboard_all_categories().items():\n",
    "    print(\"-\" * 50)\n",
    "    print(category)\n",
    "    print(\"-\" * 50)\n",
    "    leaderboard = sorted(leaderboard, key=lambda x: x.rating.value, reverse=True)\n",
    "    for rm in leaderboard[:5]:\n",
    "        print(rm)\n",
    "    print(\"...\")"
   ]
  },
  {
   "cell_type": "code",
   "execution_count": null,
   "metadata": {},
   "outputs": [],
   "source": []
  }
 ],
 "metadata": {
  "kernelspec": {
   "display_name": "ys-dev",
   "language": "python",
   "name": "python3"
  },
  "language_info": {
   "codemirror_mode": {
    "name": "ipython",
    "version": 3
   },
   "file_extension": ".py",
   "mimetype": "text/x-python",
   "name": "python",
   "nbconvert_exporter": "python",
   "pygments_lexer": "ipython3",
   "version": "3.11.0"
  }
 },
 "nbformat": 4,
 "nbformat_minor": 2
}
