{
 "cells": [
  {
   "cell_type": "code",
   "execution_count": 1,
   "metadata": {},
   "outputs": [],
   "source": [
    "%load_ext autoreload\n",
    "%autoreload 2\n",
    "\n",
    "import os  # noqa\n",
    "import sys  # noqa\n",
    "\n",
    "from collections import Counter  # noqa\n",
    "import pandas as pd  # noqa\n",
    "import requests  # noqa\n",
    "import seaborn as sns  # noqa\n",
    "from tqdm.notebook import tqdm  # noqa\n",
    "import plotly.express as px  # noqa\n",
    "from plotly.subplots import make_subplots  # noqa\n",
    "import plotly.graph_objects as go  # noqa\n",
    "\n",
    "sys.path.append(\"..\")\n",
    "\n",
    "from backend.llm.routing.policy import RoutingPolicy, SelectionCriteria  # noqa\n",
    "from backend.llm.routing.router import RankedRouter  # noqa\n",
    "from backend.llm.ranking import ChoixRankerConfIntervals  # noqa"
   ]
  },
  {
   "cell_type": "code",
   "execution_count": 2,
   "metadata": {},
   "outputs": [
    {
     "data": {
      "text/html": [
       "<div>\n",
       "<style scoped>\n",
       "    .dataframe tbody tr th:only-of-type {\n",
       "        vertical-align: middle;\n",
       "    }\n",
       "\n",
       "    .dataframe tbody tr th {\n",
       "        vertical-align: top;\n",
       "    }\n",
       "\n",
       "    .dataframe thead th {\n",
       "        text-align: right;\n",
       "    }\n",
       "</style>\n",
       "<table border=\"1\" class=\"dataframe\">\n",
       "  <thead>\n",
       "    <tr style=\"text-align: right;\">\n",
       "      <th></th>\n",
       "      <th>model_a</th>\n",
       "      <th>model_b</th>\n",
       "      <th>winner</th>\n",
       "      <th>judge</th>\n",
       "      <th>turn</th>\n",
       "      <th>anony</th>\n",
       "      <th>language</th>\n",
       "      <th>tstamp</th>\n",
       "      <th>conv_metadata</th>\n",
       "      <th>is_code</th>\n",
       "      <th>is_refusal</th>\n",
       "      <th>dedup_tag</th>\n",
       "      <th>category_tag</th>\n",
       "    </tr>\n",
       "  </thead>\n",
       "  <tbody>\n",
       "    <tr>\n",
       "      <th>0</th>\n",
       "      <td>chatglm-6b</td>\n",
       "      <td>koala-13b</td>\n",
       "      <td>model_b</td>\n",
       "      <td>2e9c29aa140b8e50643235eab01dc9ea</td>\n",
       "      <td>1</td>\n",
       "      <td>True</td>\n",
       "      <td>English</td>\n",
       "      <td>1.682352e+09</td>\n",
       "      <td>{'sum_user_tokens': 10, 'sum_assistant_a_token...</td>\n",
       "      <td>True</td>\n",
       "      <td>False</td>\n",
       "      <td>{'high_freq': False, 'sampled': True}</td>\n",
       "      <td>{'if_v0.1': {'if': False, 'score': 1}, 'math_v...</td>\n",
       "    </tr>\n",
       "    <tr>\n",
       "      <th>1</th>\n",
       "      <td>oasst-pythia-12b</td>\n",
       "      <td>alpaca-13b</td>\n",
       "      <td>tie</td>\n",
       "      <td>2e9c29aa140b8e50643235eab01dc9ea</td>\n",
       "      <td>1</td>\n",
       "      <td>True</td>\n",
       "      <td>English</td>\n",
       "      <td>1.682352e+09</td>\n",
       "      <td>{'sum_user_tokens': 11, 'sum_assistant_a_token...</td>\n",
       "      <td>False</td>\n",
       "      <td>False</td>\n",
       "      <td>{'high_freq': False, 'sampled': True}</td>\n",
       "      <td>{'if_v0.1': {'if': False, 'score': 0}, 'math_v...</td>\n",
       "    </tr>\n",
       "    <tr>\n",
       "      <th>2</th>\n",
       "      <td>koala-13b</td>\n",
       "      <td>oasst-pythia-12b</td>\n",
       "      <td>model_b</td>\n",
       "      <td>2e9c29aa140b8e50643235eab01dc9ea</td>\n",
       "      <td>1</td>\n",
       "      <td>True</td>\n",
       "      <td>English</td>\n",
       "      <td>1.682352e+09</td>\n",
       "      <td>{'sum_user_tokens': 10, 'sum_assistant_a_token...</td>\n",
       "      <td>False</td>\n",
       "      <td>False</td>\n",
       "      <td>{'high_freq': False, 'sampled': True}</td>\n",
       "      <td>{'if_v0.1': {'if': False, 'score': 0}, 'math_v...</td>\n",
       "    </tr>\n",
       "    <tr>\n",
       "      <th>3</th>\n",
       "      <td>vicuna-13b</td>\n",
       "      <td>oasst-pythia-12b</td>\n",
       "      <td>model_b</td>\n",
       "      <td>2e9c29aa140b8e50643235eab01dc9ea</td>\n",
       "      <td>1</td>\n",
       "      <td>True</td>\n",
       "      <td>English</td>\n",
       "      <td>1.682352e+09</td>\n",
       "      <td>{'sum_user_tokens': 9, 'sum_assistant_a_tokens...</td>\n",
       "      <td>False</td>\n",
       "      <td>False</td>\n",
       "      <td>{'high_freq': False, 'sampled': True}</td>\n",
       "      <td>{'if_v0.1': {'if': False, 'score': 1}, 'math_v...</td>\n",
       "    </tr>\n",
       "    <tr>\n",
       "      <th>4</th>\n",
       "      <td>vicuna-13b</td>\n",
       "      <td>koala-13b</td>\n",
       "      <td>model_a</td>\n",
       "      <td>2e9c29aa140b8e50643235eab01dc9ea</td>\n",
       "      <td>1</td>\n",
       "      <td>True</td>\n",
       "      <td>English</td>\n",
       "      <td>1.682352e+09</td>\n",
       "      <td>{'sum_user_tokens': 5, 'sum_assistant_a_tokens...</td>\n",
       "      <td>False</td>\n",
       "      <td>True</td>\n",
       "      <td>{'high_freq': False, 'sampled': True}</td>\n",
       "      <td>{'if_v0.1': {'if': False, 'score': 0}, 'math_v...</td>\n",
       "    </tr>\n",
       "  </tbody>\n",
       "</table>\n",
       "</div>"
      ],
      "text/plain": [
       "            model_a           model_b   winner  \\\n",
       "0        chatglm-6b         koala-13b  model_b   \n",
       "1  oasst-pythia-12b        alpaca-13b      tie   \n",
       "2         koala-13b  oasst-pythia-12b  model_b   \n",
       "3        vicuna-13b  oasst-pythia-12b  model_b   \n",
       "4        vicuna-13b         koala-13b  model_a   \n",
       "\n",
       "                              judge  turn  anony language        tstamp  \\\n",
       "0  2e9c29aa140b8e50643235eab01dc9ea     1   True  English  1.682352e+09   \n",
       "1  2e9c29aa140b8e50643235eab01dc9ea     1   True  English  1.682352e+09   \n",
       "2  2e9c29aa140b8e50643235eab01dc9ea     1   True  English  1.682352e+09   \n",
       "3  2e9c29aa140b8e50643235eab01dc9ea     1   True  English  1.682352e+09   \n",
       "4  2e9c29aa140b8e50643235eab01dc9ea     1   True  English  1.682352e+09   \n",
       "\n",
       "                                       conv_metadata  is_code  is_refusal  \\\n",
       "0  {'sum_user_tokens': 10, 'sum_assistant_a_token...     True       False   \n",
       "1  {'sum_user_tokens': 11, 'sum_assistant_a_token...    False       False   \n",
       "2  {'sum_user_tokens': 10, 'sum_assistant_a_token...    False       False   \n",
       "3  {'sum_user_tokens': 9, 'sum_assistant_a_tokens...    False       False   \n",
       "4  {'sum_user_tokens': 5, 'sum_assistant_a_tokens...    False        True   \n",
       "\n",
       "                               dedup_tag  \\\n",
       "0  {'high_freq': False, 'sampled': True}   \n",
       "1  {'high_freq': False, 'sampled': True}   \n",
       "2  {'high_freq': False, 'sampled': True}   \n",
       "3  {'high_freq': False, 'sampled': True}   \n",
       "4  {'high_freq': False, 'sampled': True}   \n",
       "\n",
       "                                        category_tag  \n",
       "0  {'if_v0.1': {'if': False, 'score': 1}, 'math_v...  \n",
       "1  {'if_v0.1': {'if': False, 'score': 0}, 'math_v...  \n",
       "2  {'if_v0.1': {'if': False, 'score': 0}, 'math_v...  \n",
       "3  {'if_v0.1': {'if': False, 'score': 1}, 'math_v...  \n",
       "4  {'if_v0.1': {'if': False, 'score': 0}, 'math_v...  "
      ]
     },
     "execution_count": 2,
     "metadata": {},
     "output_type": "execute_result"
    }
   ],
   "source": [
    "# This data is also found in https://drive.google.com/drive/u/0/folders/1660oK765zlYCNf8B-cF82T_CKnQvc9cK as backup.\n",
    "\n",
    "local_file_name = \"../tmp/clean_battle_20240814_public.json\"\n",
    "\n",
    "if not os.path.exists(local_file_name):\n",
    "    print(\"Downloading battles\")\n",
    "    url = \"https://storage.googleapis.com/arena_external_data/public/clean_battle_20240814_public.json\"\n",
    "    response = requests.get(url)\n",
    "\n",
    "    with open(local_file_name, \"wb\") as file:\n",
    "        file.write(response.content)\n",
    "\n",
    "with open(local_file_name) as file:\n",
    "    battles = pd.read_json(file).sort_values(ascending=True, by=[\"tstamp\"])\n",
    "\n",
    "battles.head()"
   ]
  },
  {
   "cell_type": "code",
   "execution_count": 3,
   "metadata": {},
   "outputs": [
    {
     "data": {
      "application/vnd.jupyter.widget-view+json": {
       "model_id": "600c59fa3e11464ca1ec34c25926469a",
       "version_major": 2,
       "version_minor": 0
      },
      "text/plain": [
       "  0%|          | 0/1799991 [00:00<?, ?it/s]"
      ]
     },
     "metadata": {},
     "output_type": "display_data"
    },
    {
     "name": "stdout",
     "output_type": "stream",
     "text": [
      "RatedModel(model='chatgpt-4o-latest', rating=AnnotatedFloat(value=1456.603119975846, annotation='Wins: 4730, Losses: 2926, Ties: 0 (1450.4 to 1469.7)'))\n",
      "RatedModel(model='gemini-1.5-pro-exp-0801', rating=AnnotatedFloat(value=1414.5306465415001, annotation='Wins: 6275, Losses: 4176, Ties: 0 (1401.0 to 1429.5)'))\n",
      "RatedModel(model='gpt-4o-2024-05-13', rating=AnnotatedFloat(value=1385.1264609358823, annotation='Wins: 24360, Losses: 16133, Ties: 0 (1380.3 to 1392.3)'))\n",
      "RatedModel(model='gpt-4o-mini-2024-07-18', rating=AnnotatedFloat(value=1362.3383177203978, annotation='Wins: 5892, Losses: 4398, Ties: 0 (1355.0 to 1375.8)'))\n",
      "RatedModel(model='claude-3-5-sonnet-20240620', rating=AnnotatedFloat(value=1354.3116041799403, annotation='Wins: 13801, Losses: 10507, Ties: 0 (1351.8 to 1360.5)'))\n",
      "RatedModel(model='gemini-advanced-0514', rating=AnnotatedFloat(value=1346.6753755626228, annotation='Wins: 16107, Losses: 11580, Ties: 0 (1339.8 to 1355.3)'))\n",
      "RatedModel(model='llama-3.1-405b-instruct', rating=AnnotatedFloat(value=1345.030070929526, annotation='Wins: 5405, Losses: 4432, Ties: 0 (1338.4 to 1347.1)'))\n",
      "RatedModel(model='gpt-4o-2024-08-06', rating=AnnotatedFloat(value=1339.987945946159, annotation='Wins: 2740, Losses: 2218, Ties: 0 (1325.2 to 1362.0)'))\n",
      "RatedModel(model='gemini-1.5-pro-api-0514', rating=AnnotatedFloat(value=1334.8999468403895, annotation='Wins: 20703, Losses: 15855, Ties: 0 (1332.1 to 1340.4)'))\n",
      "RatedModel(model='gpt-4-turbo-2024-04-09', rating=AnnotatedFloat(value=1321.454677718177, annotation='Wins: 27349, Losses: 20005, Ties: 0 (1319.8 to 1326.3)'))\n",
      "...\n",
      "RatedModel(model='oasst-pythia-12b', rating=AnnotatedFloat(value=501.4441725259183, annotation='Wins: 1428, Losses: 2251, Ties: 0 (488.9 to 523.5)'))\n",
      "RatedModel(model='fastchat-t5-3b', rating=AnnotatedFloat(value=473.46183293725244, annotation='Wins: 756, Losses: 1420, Ties: 0 (443.5 to 531.4)'))\n",
      "RatedModel(model='stablelm-tuned-alpha-7b', rating=AnnotatedFloat(value=406.8434296132284, annotation='Wins: 741, Losses: 1303, Ties: 0 (370.1 to 422.0)'))\n",
      "RatedModel(model='dolly-v2-12b', rating=AnnotatedFloat(value=325.25455603375747, annotation='Wins: 703, Losses: 1515, Ties: 0 (302.1 to 345.1)'))\n",
      "RatedModel(model='llama-13b', rating=AnnotatedFloat(value=272.2548898338291, annotation='Wins: 507, Losses: 1137, Ties: 0 (251.5 to 336.8)'))\n",
      "\n",
      "Threshold Counter ThresholdCounter(count=0, total_count=900180, threshold=25000, max_threshold=25000, growth_rate=1.2345, reset_count=75)\n"
     ]
    }
   ],
   "source": [
    "models = list(set(battles.head()[\"model_a\"]) | set(battles.head()[\"model_b\"]))\n",
    "\n",
    "ranker = ChoixRankerConfIntervals(\n",
    "    models=models,\n",
    "    num_bootstrap_iterations=8,\n",
    "    choix_ranker_algorithm=\"lsr_pairwise\",\n",
    ")\n",
    "router = RankedRouter(\n",
    "    models=models,\n",
    "    policy=RoutingPolicy(SelectionCriteria.PROPORTIONAL, random_fraction=0.1),\n",
    "    ranker=ranker,\n",
    "    seed=123,\n",
    ")\n",
    "\n",
    "routes = []\n",
    "sample_fraction = 0.5\n",
    "for i, row in tqdm(battles.iterrows(), total=len(battles)):\n",
    "    if i % 10000 > sample_fraction * 10000:\n",
    "        # sample the data, but keep the order\n",
    "        continue\n",
    "    routes.append(router.select_models(2))\n",
    "    if row.winner == \"model_a\":\n",
    "        router.update_ranker(row.model_a, row.model_b, 1.0)\n",
    "    else:\n",
    "        router.update_ranker(row.model_b, row.model_a, 1.0)\n",
    "\n",
    "ranker.update_ratings()\n",
    "\n",
    "leaderboard = sorted(ranker.leaderboard(), key=lambda x: x.rating.value, reverse=True)\n",
    "for rm in leaderboard[:10]:\n",
    "    print(rm)\n",
    "print(\"...\")\n",
    "for rm in leaderboard[-5:]:\n",
    "    print(rm)\n",
    "\n",
    "print(\"\\nThreshold Counter\", ranker.update_ratings_counter)"
   ]
  },
  {
   "cell_type": "code",
   "execution_count": 4,
   "metadata": {},
   "outputs": [
    {
     "data": {
      "application/vnd.plotly.v1+json": {
       "config": {
        "plotlyServerURL": "https://plot.ly"
       },
       "data": [
        {
         "coloraxis": "coloraxis",
         "hovertemplate": "Model A: %{y}<br>Model B: %{x}<br>Count: %{z}<extra></extra>",
         "name": "0",
         "texttemplate": "%{z}",
         "type": "heatmap",
         "x": [
          "gpt-4-1106-preview",
          "gpt-4-0125-preview",
          "gpt-4-0314",
          "claude-3-opus-20240229",
          "gpt-4-turbo-2024-04-09",
          "bard-jan-24-gemini-pro",
          "claude-1",
          "gemini-1.5-pro-api-0409-preview",
          "gpt-4-0613",
          "claude-3-sonnet-20240229",
          "gpt-4o-2024-05-13",
          "claude-2.0",
          "gpt-3.5-turbo-0314",
          "claude-3-haiku-20240307",
          "llama-3-70b-instruct",
          "command-r-plus",
          "claude-instant-1",
          "gemini-1.5-pro-api-0514",
          "mistral-large-2402",
          "gpt-3.5-turbo-0613",
          "qwen1.5-72b-chat",
          "gemini-advanced-0514",
          "mistral-medium",
          "wizardlm-70b",
          "claude-2.1",
          "gemini-pro-dev-api",
          "mixtral-8x7b-instruct-v0.1",
          "vicuna-33b",
          "yi-large-preview",
          "yi-34b-chat"
         ],
         "xaxis": "x",
         "y": [
          "gpt-4-1106-preview",
          "gpt-4-0125-preview",
          "gpt-4-0314",
          "claude-3-opus-20240229",
          "gpt-4-turbo-2024-04-09",
          "bard-jan-24-gemini-pro",
          "claude-1",
          "gemini-1.5-pro-api-0409-preview",
          "gpt-4-0613",
          "claude-3-sonnet-20240229",
          "gpt-4o-2024-05-13",
          "claude-2.0",
          "gpt-3.5-turbo-0314",
          "claude-3-haiku-20240307",
          "llama-3-70b-instruct",
          "command-r-plus",
          "claude-instant-1",
          "gemini-1.5-pro-api-0514",
          "mistral-large-2402",
          "gpt-3.5-turbo-0613",
          "qwen1.5-72b-chat",
          "gemini-advanced-0514",
          "mistral-medium",
          "wizardlm-70b",
          "claude-2.1",
          "gemini-pro-dev-api",
          "mixtral-8x7b-instruct-v0.1",
          "vicuna-33b",
          "yi-large-preview",
          "yi-34b-chat"
         ],
         "yaxis": "y",
         "z": [
          [
           0,
           2621,
           2781,
           2118,
           1304,
           1921,
           1554,
           950,
           1768,
           1074,
           524,
           1196,
           852,
           695,
           546,
           552,
           864,
           414,
           732,
           952,
           732,
           405,
           873,
           848,
           897,
           660,
           779,
           729,
           278,
           770
          ],
          [
           2586,
           0,
           1038,
           2034,
           1260,
           1543,
           688,
           851,
           815,
           1029,
           517,
           579,
           382,
           680,
           539,
           484,
           410,
           381,
           696,
           457,
           680,
           356,
           627,
           389,
           471,
           493,
           452,
           314,
           292,
           402
          ],
          [
           2702,
           1101,
           0,
           933,
           620,
           830,
           3683,
           420,
           1346,
           480,
           268,
           1026,
           1973,
           292,
           239,
           230,
           1498,
           167,
           351,
           756,
           319,
           157,
           343,
           594,
           382,
           288,
           310,
           702,
           154,
           331
          ],
          [
           2146,
           1996,
           907,
           0,
           1240,
           1283,
           558,
           909,
           622,
           1035,
           575,
           474,
           291,
           722,
           555,
           587,
           333,
           404,
           637,
           338,
           554,
           354,
           529,
           311,
           361,
           446,
           371,
           261,
           286,
           337
          ],
          [
           1283,
           1180,
           563,
           1294,
           0,
           771,
           336,
           1005,
           368,
           681,
           590,
           302,
           208,
           535,
           555,
           582,
           208,
           445,
           370,
           251,
           360,
           402,
           330,
           217,
           232,
           295,
           239,
           185,
           299,
           220
          ],
          [
           1900,
           1521,
           817,
           1223,
           740,
           0,
           530,
           558,
           601,
           598,
           318,
           440,
           281,
           446,
           347,
           366,
           288,
           253,
           421,
           346,
           459,
           244,
           456,
           298,
           341,
           387,
           372,
           258,
           189,
           294
          ],
          [
           1550,
           631,
           3615,
           555,
           386,
           536,
           0,
           281,
           747,
           278,
           150,
           485,
           854,
           190,
           152,
           173,
           650,
           126,
           186,
           385,
           178,
           93,
           185,
           312,
           219,
           160,
           210,
           363,
           99,
           201
          ],
          [
           886,
           888,
           435,
           884,
           996,
           563,
           263,
           0,
           330,
           429,
           553,
           196,
           167,
           396,
           562,
           428,
           160,
           386,
           279,
           167,
           296,
           386,
           242,
           167,
           169,
           245,
           171,
           122,
           306,
           182
          ],
          [
           1777,
           805,
           1315,
           621,
           432,
           610,
           680,
           311,
           0,
           361,
           187,
           554,
           423,
           236,
           179,
           214,
           410,
           144,
           233,
           458,
           250,
           107,
           239,
           329,
           259,
           206,
           262,
           309,
           116,
           237
          ],
          [
           1056,
           985,
           429,
           1068,
           665,
           567,
           301,
           505,
           345,
           0,
           281,
           199,
           153,
           354,
           272,
           338,
           165,
           222,
           299,
           194,
           298,
           162,
           262,
           173,
           161,
           215,
           154,
           120,
           155,
           157
          ],
          [
           586,
           513,
           265,
           598,
           579,
           344,
           180,
           491,
           193,
           327,
           0,
           114,
           102,
           220,
           318,
           247,
           104,
           651,
           192,
           108,
           150,
           613,
           146,
           104,
           107,
           141,
           119,
           96,
           460,
           125
          ],
          [
           1245,
           568,
           926,
           407,
           274,
           382,
           534,
           201,
           528,
           228,
           162,
           0,
           246,
           166,
           130,
           144,
           298,
           92,
           133,
           321,
           148,
           83,
           198,
           260,
           182,
           134,
           166,
           223,
           65,
           155
          ],
          [
           799,
           392,
           1978,
           337,
           209,
           262,
           850,
           169,
           372,
           145,
           93,
           262,
           0,
           107,
           95,
           93,
           344,
           76,
           112,
           217,
           92,
           69,
           116,
           157,
           119,
           98,
           128,
           213,
           52,
           111
          ],
          [
           715,
           580,
           315,
           696,
           509,
           433,
           188,
           357,
           221,
           367,
           227,
           154,
           102,
           0,
           210,
           254,
           120,
           167,
           223,
           141,
           209,
           148,
           182,
           103,
           137,
           157,
           128,
           93,
           102,
           120
          ],
          [
           575,
           506,
           261,
           500,
           538,
           335,
           148,
           493,
           175,
           281,
           309,
           131,
           89,
           175,
           0,
           235,
           87,
           217,
           153,
           99,
           164,
           206,
           119,
           76,
           107,
           139,
           98,
           65,
           173,
           104
          ],
          [
           582,
           588,
           245,
           594,
           610,
           328,
           171,
           447,
           195,
           292,
           270,
           129,
           107,
           244,
           258,
           0,
           105,
           192,
           222,
           85,
           186,
           182,
           147,
           80,
           103,
           135,
           118,
           76,
           130,
           98
          ],
          [
           783,
           407,
           1467,
           315,
           198,
           287,
           636,
           149,
           424,
           185,
           102,
           287,
           347,
           119,
           92,
           107,
           0,
           64,
           102,
           259,
           98,
           53,
           109,
           181,
           125,
           98,
           118,
           252,
           50,
           111
          ],
          [
           368,
           343,
           197,
           392,
           443,
           266,
           99,
           411,
           148,
           220,
           664,
           88,
           76,
           151,
           239,
           173,
           64,
           0,
           106,
           83,
           108,
           468,
           88,
           68,
           62,
           97,
           69,
           50,
           334,
           82
          ],
          [
           717,
           731,
           309,
           661,
           398,
           421,
           200,
           280,
           232,
           296,
           174,
           144,
           123,
           194,
           145,
           194,
           107,
           121,
           0,
           119,
           193,
           129,
           179,
           107,
           123,
           136,
           120,
           95,
           83,
           137
          ],
          [
           955,
           477,
           775,
           360,
           255,
           318,
           383,
           180,
           447,
           213,
           95,
           346,
           210,
           119,
           117,
           103,
           241,
           86,
           132,
           0,
           123,
           71,
           128,
           177,
           145,
           107,
           118,
           185,
           70,
           125
          ],
          [
           758,
           708,
           353,
           580,
           392,
           448,
           175,
           311,
           235,
           274,
           176,
           167,
           101,
           212,
           156,
           193,
           113,
           118,
           193,
           126,
           0,
           93,
           202,
           123,
           168,
           127,
           127,
           90,
           106,
           115
          ],
          [
           402,
           366,
           190,
           373,
           381,
           233,
           108,
           377,
           123,
           196,
           568,
           87,
           62,
           148,
           216,
           162,
           70,
           487,
           112,
           73,
           136,
           0,
           85,
           62,
           68,
           75,
           73,
           40,
           339,
           81
          ],
          [
           841,
           630,
           327,
           558,
           312,
           494,
           227,
           245,
           277,
           264,
           152,
           172,
           109,
           185,
           117,
           158,
           130,
           98,
           171,
           143,
           203,
           127,
           0,
           104,
           134,
           163,
           137,
           108,
           81,
           125
          ],
          [
           784,
           392,
           563,
           296,
           217,
           295,
           324,
           162,
           322,
           157,
           95,
           217,
           162,
           111,
           91,
           101,
           192,
           60,
           122,
           189,
           109,
           49,
           105,
           0,
           140,
           106,
           105,
           142,
           54,
           108
          ],
          [
           853,
           444,
           373,
           376,
           226,
           309,
           232,
           176,
           290,
           175,
           115,
           222,
           126,
           104,
           98,
           93,
           128,
           57,
           131,
           150,
           136,
           79,
           126,
           108,
           0,
           125,
           130,
           117,
           58,
           137
          ],
          [
           634,
           578,
           268,
           432,
           279,
           406,
           151,
           205,
           187,
           213,
           138,
           129,
           91,
           134,
           139,
           135,
           81,
           94,
           170,
           110,
           161,
           78,
           175,
           79,
           137,
           0,
           130,
           82,
           84,
           119
          ],
          [
           793,
           495,
           325,
           386,
           217,
           297,
           208,
           156,
           269,
           178,
           84,
           168,
           134,
           116,
           100,
           95,
           115,
           77,
           133,
           135,
           136,
           76,
           144,
           104,
           143,
           114,
           0,
           103,
           44,
           120
          ],
          [
           758,
           320,
           741,
           243,
           177,
           239,
           363,
           128,
           328,
           140,
           96,
           258,
           187,
           101,
           81,
           84,
           232,
           45,
           98,
           194,
           85,
           57,
           97,
           153,
           99,
           72,
           99,
           0,
           44,
           96
          ],
          [
           294,
           293,
           142,
           314,
           323,
           169,
           88,
           313,
           100,
           176,
           454,
           61,
           59,
           139,
           179,
           117,
           58,
           330,
           98,
           62,
           107,
           320,
           78,
           50,
           54,
           80,
           58,
           39,
           0,
           81
          ],
          [
           774,
           408,
           353,
           329,
           225,
           309,
           179,
           175,
           238,
           171,
           106,
           161,
           122,
           108,
           113,
           108,
           120,
           76,
           123,
           135,
           100,
           71,
           143,
           115,
           136,
           98,
           137,
           84,
           64,
           0
          ]
         ]
        }
       ],
       "layout": {
        "coloraxis": {
         "colorscale": [
          [
           0,
           "#0d0887"
          ],
          [
           0.1111111111111111,
           "#46039f"
          ],
          [
           0.2222222222222222,
           "#7201a8"
          ],
          [
           0.3333333333333333,
           "#9c179e"
          ],
          [
           0.4444444444444444,
           "#bd3786"
          ],
          [
           0.5555555555555556,
           "#d8576b"
          ],
          [
           0.6666666666666666,
           "#ed7953"
          ],
          [
           0.7777777777777778,
           "#fb9f3a"
          ],
          [
           0.8888888888888888,
           "#fdca26"
          ],
          [
           1,
           "#f0f921"
          ]
         ]
        },
        "font": {
         "size": 10
        },
        "height": 800,
        "template": {
         "data": {
          "bar": [
           {
            "error_x": {
             "color": "#2a3f5f"
            },
            "error_y": {
             "color": "#2a3f5f"
            },
            "marker": {
             "line": {
              "color": "#E5ECF6",
              "width": 0.5
             },
             "pattern": {
              "fillmode": "overlay",
              "size": 10,
              "solidity": 0.2
             }
            },
            "type": "bar"
           }
          ],
          "barpolar": [
           {
            "marker": {
             "line": {
              "color": "#E5ECF6",
              "width": 0.5
             },
             "pattern": {
              "fillmode": "overlay",
              "size": 10,
              "solidity": 0.2
             }
            },
            "type": "barpolar"
           }
          ],
          "carpet": [
           {
            "aaxis": {
             "endlinecolor": "#2a3f5f",
             "gridcolor": "white",
             "linecolor": "white",
             "minorgridcolor": "white",
             "startlinecolor": "#2a3f5f"
            },
            "baxis": {
             "endlinecolor": "#2a3f5f",
             "gridcolor": "white",
             "linecolor": "white",
             "minorgridcolor": "white",
             "startlinecolor": "#2a3f5f"
            },
            "type": "carpet"
           }
          ],
          "choropleth": [
           {
            "colorbar": {
             "outlinewidth": 0,
             "ticks": ""
            },
            "type": "choropleth"
           }
          ],
          "contour": [
           {
            "colorbar": {
             "outlinewidth": 0,
             "ticks": ""
            },
            "colorscale": [
             [
              0,
              "#0d0887"
             ],
             [
              0.1111111111111111,
              "#46039f"
             ],
             [
              0.2222222222222222,
              "#7201a8"
             ],
             [
              0.3333333333333333,
              "#9c179e"
             ],
             [
              0.4444444444444444,
              "#bd3786"
             ],
             [
              0.5555555555555556,
              "#d8576b"
             ],
             [
              0.6666666666666666,
              "#ed7953"
             ],
             [
              0.7777777777777778,
              "#fb9f3a"
             ],
             [
              0.8888888888888888,
              "#fdca26"
             ],
             [
              1,
              "#f0f921"
             ]
            ],
            "type": "contour"
           }
          ],
          "contourcarpet": [
           {
            "colorbar": {
             "outlinewidth": 0,
             "ticks": ""
            },
            "type": "contourcarpet"
           }
          ],
          "heatmap": [
           {
            "colorbar": {
             "outlinewidth": 0,
             "ticks": ""
            },
            "colorscale": [
             [
              0,
              "#0d0887"
             ],
             [
              0.1111111111111111,
              "#46039f"
             ],
             [
              0.2222222222222222,
              "#7201a8"
             ],
             [
              0.3333333333333333,
              "#9c179e"
             ],
             [
              0.4444444444444444,
              "#bd3786"
             ],
             [
              0.5555555555555556,
              "#d8576b"
             ],
             [
              0.6666666666666666,
              "#ed7953"
             ],
             [
              0.7777777777777778,
              "#fb9f3a"
             ],
             [
              0.8888888888888888,
              "#fdca26"
             ],
             [
              1,
              "#f0f921"
             ]
            ],
            "type": "heatmap"
           }
          ],
          "heatmapgl": [
           {
            "colorbar": {
             "outlinewidth": 0,
             "ticks": ""
            },
            "colorscale": [
             [
              0,
              "#0d0887"
             ],
             [
              0.1111111111111111,
              "#46039f"
             ],
             [
              0.2222222222222222,
              "#7201a8"
             ],
             [
              0.3333333333333333,
              "#9c179e"
             ],
             [
              0.4444444444444444,
              "#bd3786"
             ],
             [
              0.5555555555555556,
              "#d8576b"
             ],
             [
              0.6666666666666666,
              "#ed7953"
             ],
             [
              0.7777777777777778,
              "#fb9f3a"
             ],
             [
              0.8888888888888888,
              "#fdca26"
             ],
             [
              1,
              "#f0f921"
             ]
            ],
            "type": "heatmapgl"
           }
          ],
          "histogram": [
           {
            "marker": {
             "pattern": {
              "fillmode": "overlay",
              "size": 10,
              "solidity": 0.2
             }
            },
            "type": "histogram"
           }
          ],
          "histogram2d": [
           {
            "colorbar": {
             "outlinewidth": 0,
             "ticks": ""
            },
            "colorscale": [
             [
              0,
              "#0d0887"
             ],
             [
              0.1111111111111111,
              "#46039f"
             ],
             [
              0.2222222222222222,
              "#7201a8"
             ],
             [
              0.3333333333333333,
              "#9c179e"
             ],
             [
              0.4444444444444444,
              "#bd3786"
             ],
             [
              0.5555555555555556,
              "#d8576b"
             ],
             [
              0.6666666666666666,
              "#ed7953"
             ],
             [
              0.7777777777777778,
              "#fb9f3a"
             ],
             [
              0.8888888888888888,
              "#fdca26"
             ],
             [
              1,
              "#f0f921"
             ]
            ],
            "type": "histogram2d"
           }
          ],
          "histogram2dcontour": [
           {
            "colorbar": {
             "outlinewidth": 0,
             "ticks": ""
            },
            "colorscale": [
             [
              0,
              "#0d0887"
             ],
             [
              0.1111111111111111,
              "#46039f"
             ],
             [
              0.2222222222222222,
              "#7201a8"
             ],
             [
              0.3333333333333333,
              "#9c179e"
             ],
             [
              0.4444444444444444,
              "#bd3786"
             ],
             [
              0.5555555555555556,
              "#d8576b"
             ],
             [
              0.6666666666666666,
              "#ed7953"
             ],
             [
              0.7777777777777778,
              "#fb9f3a"
             ],
             [
              0.8888888888888888,
              "#fdca26"
             ],
             [
              1,
              "#f0f921"
             ]
            ],
            "type": "histogram2dcontour"
           }
          ],
          "mesh3d": [
           {
            "colorbar": {
             "outlinewidth": 0,
             "ticks": ""
            },
            "type": "mesh3d"
           }
          ],
          "parcoords": [
           {
            "line": {
             "colorbar": {
              "outlinewidth": 0,
              "ticks": ""
             }
            },
            "type": "parcoords"
           }
          ],
          "pie": [
           {
            "automargin": true,
            "type": "pie"
           }
          ],
          "scatter": [
           {
            "fillpattern": {
             "fillmode": "overlay",
             "size": 10,
             "solidity": 0.2
            },
            "type": "scatter"
           }
          ],
          "scatter3d": [
           {
            "line": {
             "colorbar": {
              "outlinewidth": 0,
              "ticks": ""
             }
            },
            "marker": {
             "colorbar": {
              "outlinewidth": 0,
              "ticks": ""
             }
            },
            "type": "scatter3d"
           }
          ],
          "scattercarpet": [
           {
            "marker": {
             "colorbar": {
              "outlinewidth": 0,
              "ticks": ""
             }
            },
            "type": "scattercarpet"
           }
          ],
          "scattergeo": [
           {
            "marker": {
             "colorbar": {
              "outlinewidth": 0,
              "ticks": ""
             }
            },
            "type": "scattergeo"
           }
          ],
          "scattergl": [
           {
            "marker": {
             "colorbar": {
              "outlinewidth": 0,
              "ticks": ""
             }
            },
            "type": "scattergl"
           }
          ],
          "scattermapbox": [
           {
            "marker": {
             "colorbar": {
              "outlinewidth": 0,
              "ticks": ""
             }
            },
            "type": "scattermapbox"
           }
          ],
          "scatterpolar": [
           {
            "marker": {
             "colorbar": {
              "outlinewidth": 0,
              "ticks": ""
             }
            },
            "type": "scatterpolar"
           }
          ],
          "scatterpolargl": [
           {
            "marker": {
             "colorbar": {
              "outlinewidth": 0,
              "ticks": ""
             }
            },
            "type": "scatterpolargl"
           }
          ],
          "scatterternary": [
           {
            "marker": {
             "colorbar": {
              "outlinewidth": 0,
              "ticks": ""
             }
            },
            "type": "scatterternary"
           }
          ],
          "surface": [
           {
            "colorbar": {
             "outlinewidth": 0,
             "ticks": ""
            },
            "colorscale": [
             [
              0,
              "#0d0887"
             ],
             [
              0.1111111111111111,
              "#46039f"
             ],
             [
              0.2222222222222222,
              "#7201a8"
             ],
             [
              0.3333333333333333,
              "#9c179e"
             ],
             [
              0.4444444444444444,
              "#bd3786"
             ],
             [
              0.5555555555555556,
              "#d8576b"
             ],
             [
              0.6666666666666666,
              "#ed7953"
             ],
             [
              0.7777777777777778,
              "#fb9f3a"
             ],
             [
              0.8888888888888888,
              "#fdca26"
             ],
             [
              1,
              "#f0f921"
             ]
            ],
            "type": "surface"
           }
          ],
          "table": [
           {
            "cells": {
             "fill": {
              "color": "#EBF0F8"
             },
             "line": {
              "color": "white"
             }
            },
            "header": {
             "fill": {
              "color": "#C8D4E3"
             },
             "line": {
              "color": "white"
             }
            },
            "type": "table"
           }
          ]
         },
         "layout": {
          "annotationdefaults": {
           "arrowcolor": "#2a3f5f",
           "arrowhead": 0,
           "arrowwidth": 1
          },
          "autotypenumbers": "strict",
          "coloraxis": {
           "colorbar": {
            "outlinewidth": 0,
            "ticks": ""
           }
          },
          "colorscale": {
           "diverging": [
            [
             0,
             "#8e0152"
            ],
            [
             0.1,
             "#c51b7d"
            ],
            [
             0.2,
             "#de77ae"
            ],
            [
             0.3,
             "#f1b6da"
            ],
            [
             0.4,
             "#fde0ef"
            ],
            [
             0.5,
             "#f7f7f7"
            ],
            [
             0.6,
             "#e6f5d0"
            ],
            [
             0.7,
             "#b8e186"
            ],
            [
             0.8,
             "#7fbc41"
            ],
            [
             0.9,
             "#4d9221"
            ],
            [
             1,
             "#276419"
            ]
           ],
           "sequential": [
            [
             0,
             "#0d0887"
            ],
            [
             0.1111111111111111,
             "#46039f"
            ],
            [
             0.2222222222222222,
             "#7201a8"
            ],
            [
             0.3333333333333333,
             "#9c179e"
            ],
            [
             0.4444444444444444,
             "#bd3786"
            ],
            [
             0.5555555555555556,
             "#d8576b"
            ],
            [
             0.6666666666666666,
             "#ed7953"
            ],
            [
             0.7777777777777778,
             "#fb9f3a"
            ],
            [
             0.8888888888888888,
             "#fdca26"
            ],
            [
             1,
             "#f0f921"
            ]
           ],
           "sequentialminus": [
            [
             0,
             "#0d0887"
            ],
            [
             0.1111111111111111,
             "#46039f"
            ],
            [
             0.2222222222222222,
             "#7201a8"
            ],
            [
             0.3333333333333333,
             "#9c179e"
            ],
            [
             0.4444444444444444,
             "#bd3786"
            ],
            [
             0.5555555555555556,
             "#d8576b"
            ],
            [
             0.6666666666666666,
             "#ed7953"
            ],
            [
             0.7777777777777778,
             "#fb9f3a"
            ],
            [
             0.8888888888888888,
             "#fdca26"
            ],
            [
             1,
             "#f0f921"
            ]
           ]
          },
          "colorway": [
           "#636efa",
           "#EF553B",
           "#00cc96",
           "#ab63fa",
           "#FFA15A",
           "#19d3f3",
           "#FF6692",
           "#B6E880",
           "#FF97FF",
           "#FECB52"
          ],
          "font": {
           "color": "#2a3f5f"
          },
          "geo": {
           "bgcolor": "white",
           "lakecolor": "white",
           "landcolor": "#E5ECF6",
           "showlakes": true,
           "showland": true,
           "subunitcolor": "white"
          },
          "hoverlabel": {
           "align": "left"
          },
          "hovermode": "closest",
          "mapbox": {
           "style": "light"
          },
          "paper_bgcolor": "white",
          "plot_bgcolor": "#E5ECF6",
          "polar": {
           "angularaxis": {
            "gridcolor": "white",
            "linecolor": "white",
            "ticks": ""
           },
           "bgcolor": "#E5ECF6",
           "radialaxis": {
            "gridcolor": "white",
            "linecolor": "white",
            "ticks": ""
           }
          },
          "scene": {
           "xaxis": {
            "backgroundcolor": "#E5ECF6",
            "gridcolor": "white",
            "gridwidth": 2,
            "linecolor": "white",
            "showbackground": true,
            "ticks": "",
            "zerolinecolor": "white"
           },
           "yaxis": {
            "backgroundcolor": "#E5ECF6",
            "gridcolor": "white",
            "gridwidth": 2,
            "linecolor": "white",
            "showbackground": true,
            "ticks": "",
            "zerolinecolor": "white"
           },
           "zaxis": {
            "backgroundcolor": "#E5ECF6",
            "gridcolor": "white",
            "gridwidth": 2,
            "linecolor": "white",
            "showbackground": true,
            "ticks": "",
            "zerolinecolor": "white"
           }
          },
          "shapedefaults": {
           "line": {
            "color": "#2a3f5f"
           }
          },
          "ternary": {
           "aaxis": {
            "gridcolor": "white",
            "linecolor": "white",
            "ticks": ""
           },
           "baxis": {
            "gridcolor": "white",
            "linecolor": "white",
            "ticks": ""
           },
           "bgcolor": "#E5ECF6",
           "caxis": {
            "gridcolor": "white",
            "linecolor": "white",
            "ticks": ""
           }
          },
          "title": {
           "x": 0.05
          },
          "xaxis": {
           "automargin": true,
           "gridcolor": "white",
           "linecolor": "white",
           "ticks": "",
           "title": {
            "standoff": 15
           },
           "zerolinecolor": "white",
           "zerolinewidth": 2
          },
          "yaxis": {
           "automargin": true,
           "gridcolor": "white",
           "linecolor": "white",
           "ticks": "",
           "title": {
            "standoff": 15
           },
           "zerolinecolor": "white",
           "zerolinewidth": 2
          }
         }
        },
        "title": {
         "text": "Route Count of Each Combination of Models",
         "x": 0.5,
         "y": 0.07
        },
        "width": 800,
        "xaxis": {
         "anchor": "y",
         "constrain": "domain",
         "domain": [
          0,
          1
         ],
         "scaleanchor": "y",
         "side": "top",
         "title": {
          "text": "Model B"
         }
        },
        "yaxis": {
         "anchor": "x",
         "autorange": "reversed",
         "constrain": "domain",
         "domain": [
          0,
          1
         ],
         "title": {
          "text": "Model A"
         }
        }
       }
      }
     },
     "metadata": {},
     "output_type": "display_data"
    }
   ],
   "source": [
    "route_df = pd.DataFrame([r for r in routes if r], columns=[\"model_a\", \"model_b\"])\n",
    "\n",
    "\n",
    "def visualize_route_count(df, title, show_num_models=40):\n",
    "    route_counts = pd.pivot_table(df, index=\"model_a\", columns=\"model_b\", aggfunc=\"size\", fill_value=0)\n",
    "    ordering = route_counts.sum().sort_values(ascending=False).index\n",
    "    ordering = ordering[:show_num_models]\n",
    "    fig = px.imshow(route_counts.loc[ordering, ordering], title=title, text_auto=True)\n",
    "    fig.update_layout(\n",
    "        xaxis_title=\"Model B\",\n",
    "        yaxis_title=\"Model A\",\n",
    "        xaxis_side=\"top\",\n",
    "        height=800,\n",
    "        width=800,\n",
    "        title_y=0.07,\n",
    "        title_x=0.5,\n",
    "        font=dict(size=10),\n",
    "    )\n",
    "    fig.update_traces(hovertemplate=\"Model A: %{y}<br>Model B: %{x}<br>Count: %{z}<extra></extra>\")\n",
    "    return fig\n",
    "\n",
    "\n",
    "visualize_route_count(route_df, title=\"Route Count of Each Combination of Models\", show_num_models=30)"
   ]
  },
  {
   "cell_type": "code",
   "execution_count": 5,
   "metadata": {},
   "outputs": [
    {
     "data": {
      "application/vnd.plotly.v1+json": {
       "config": {
        "plotlyServerURL": "https://plot.ly"
       },
       "data": [
        {
         "name": "Battle Count",
         "type": "bar",
         "x": [
          "llama-3-70b-instruct",
          "claude-3-opus-20240229",
          "claude-3-sonnet-20240229",
          "claude-3-haiku-20240307",
          "llama-3-8b-instruct",
          "gpt-4-1106-preview",
          "gpt-4-0613",
          "gpt-4-turbo-2024-04-09",
          "gpt-4-0125-preview",
          "command-r-plus",
          "mixtral-8x7b-instruct-v0.1",
          "gpt-4o-2024-05-13",
          "gpt-3.5-turbo-0125",
          "gemini-1.5-pro-api-0514",
          "reka-core-20240501",
          "mistral-large-2402",
          "command-r",
          "gemini-1.5-pro-api-0409-preview",
          "gpt-4-0314",
          "gemini-1.5-flash-api-0514",
          "mixtral-8x22b-instruct-v0.1",
          "gemini-advanced-0514",
          "yi-large-preview",
          "claude-3-5-sonnet-20240620",
          "qwen1.5-72b-chat",
          "llama-2-70b-chat",
          "gpt-3.5-turbo-0613",
          "claude-2.1",
          "mistral-medium",
          "snowflake-arctic-instruct",
          "dbrx-instruct-preview",
          "qwen2-72b-instruct",
          "qwen1.5-110b-chat",
          "qwen-max-0428",
          "reka-flash-21b-20240226",
          "gemma-2-27b-it",
          "gemma-1.1-7b-it",
          "yi-1.5-34b-chat",
          "gemma-2-9b-it",
          "qwen1.5-32b-chat",
          "phi-3-mini-128k-instruct",
          "vicuna-33b",
          "phi-3-medium-4k-instruct",
          "phi-3-mini-4k-instruct",
          "claude-1",
          "mistral-7b-instruct-v0.2",
          "nemotron-4-340b-instruct",
          "claude-instant-1",
          "qwen1.5-14b-chat",
          "reka-flash-preview-20240611",
          "llama-2-13b-chat",
          "gemini-1.5-pro-exp-0801",
          "vicuna-13b",
          "gpt-4o-mini-2024-07-18",
          "gemini-pro-dev-api",
          "llama-3.1-405b-instruct",
          "phi-3-small-8k-instruct",
          "reka-flash-21b-20240226-online",
          "starling-lm-7b-beta",
          "gpt-3.5-turbo-1106",
          "yi-34b-chat",
          "yi-large",
          "deepseek-v2-api-0628",
          "deepseek-coder-v2",
          "llama-2-7b-chat",
          "chatgpt-4o-latest",
          "llama-3.1-70b-instruct",
          "openchat-3.5-0106",
          "claude-2.0",
          "llama-3.1-8b-instruct",
          "mistral-next",
          "gemma-1.1-2b-it",
          "bard-jan-24-gemini-pro",
          "athene-70b-0725",
          "mistral-large-2407",
          "zephyr-7b-beta",
          "gemma-2-2b-it",
          "phi-3-mini-4k-instruct-june-2024",
          "starling-lm-7b-alpha",
          "glm-4-0520",
          "gpt-4o-2024-08-06",
          "gemma-7b-it",
          "mistral-7b-instruct",
          "palm-2",
          "wizardlm-70b",
          "qwen1.5-4b-chat",
          "openchat-3.5",
          "glm-4-0116",
          "codellama-34b-instruct",
          "wizardlm-13b",
          "reka-flash-20240722",
          "reka-core-20240722",
          "vicuna-7b",
          "koala-13b",
          "pplx-70b-online",
          "olmo-7b-instruct",
          "tulu-2-dpo-70b",
          "gemini-pro",
          "pplx-7b-online",
          "oasst-pythia-12b",
          "alpaca-13b",
          "gpt-3.5-turbo-0314",
          "stripedhyena-nous-7b",
          "zephyr-orpo-141b-A35b-v0.1",
          "qwen1.5-7b-chat",
          "gemma-2b-it",
          "qwen-14b-chat",
          "openhermes-2.5-mistral-7b",
          "chatglm-6b",
          "deepseek-llm-67b-chat",
          "RWKV-4-Raven-14B",
          "chatglm3-6b",
          "fastchat-t5-3b",
          "solar-10.7b-instruct-v1.0",
          "deepseek-coder-v2-0724",
          "mpt-7b-chat",
          "nous-hermes-2-mixtral-8x7b-dpo",
          "llama2-70b-steerlm-chat",
          "dolly-v2-12b",
          "stablelm-tuned-alpha-7b",
          "guanaco-33b",
          "chatglm2-6b",
          "mpt-30b-chat",
          "llama-13b",
          "gpt4all-13b-snoozy",
          "zephyr-7b-alpha",
          "dolphin-2.2.1-mistral-7b",
          "falcon-180b-chat",
          "codellama-70b-instruct"
         ],
         "xaxis": "x",
         "y": [
          182232,
          168103,
          123261,
          119736,
          117970,
          98857,
          96284,
          93756,
          93166,
          89811,
          81858,
          81771,
          74688,
          73065,
          70632,
          70488,
          62448,
          62366,
          59852,
          59087,
          55401,
          55117,
          54992,
          49530,
          44260,
          42717,
          40549,
          39426,
          37887,
          37878,
          37328,
          35809,
          31377,
          30255,
          29139,
          28957,
          27446,
          26292,
          26281,
          25887,
          24320,
          24172,
          23444,
          22351,
          21608,
          21598,
          21417,
          21401,
          21328,
          21252,
          21207,
          21099,
          20802,
          20302,
          19903,
          19768,
          19311,
          18320,
          18047,
          17693,
          17438,
          17305,
          16912,
          16293,
          15565,
          15268,
          14277,
          14023,
          13323,
          13254,
          12948,
          12678,
          12258,
          12046,
          12026,
          11826,
          11004,
          10984,
          10865,
          10451,
          10235,
          9777,
          9549,
          9145,
          8784,
          8404,
          8381,
          8207,
          7972,
          7545,
          7480,
          7346,
          7319,
          7260,
          7183,
          6942,
          6890,
          6784,
          6573,
          6571,
          6065,
          5841,
          5449,
          5408,
          5288,
          5263,
          5252,
          5242,
          5150,
          5139,
          5084,
          4903,
          4484,
          4425,
          4186,
          4161,
          3936,
          3717,
          3627,
          3437,
          3152,
          2855,
          2774,
          2518,
          1888,
          1888,
          1764,
          1381,
          1312
         ],
         "yaxis": "y"
        },
        {
         "name": "Route Count",
         "type": "bar",
         "x": [
          "gpt-4-1106-preview",
          "gpt-4-0125-preview",
          "gpt-4-0314",
          "claude-3-opus-20240229",
          "gpt-4-turbo-2024-04-09",
          "bard-jan-24-gemini-pro",
          "claude-1",
          "gemini-1.5-pro-api-0409-preview",
          "gpt-4-0613",
          "claude-3-sonnet-20240229",
          "gpt-4o-2024-05-13",
          "claude-2.0",
          "gpt-3.5-turbo-0314",
          "claude-3-haiku-20240307",
          "command-r-plus",
          "llama-3-70b-instruct",
          "gemini-1.5-pro-api-0514",
          "claude-instant-1",
          "gpt-3.5-turbo-0613",
          "mistral-large-2402",
          "qwen1.5-72b-chat",
          "mistral-medium",
          "gemini-advanced-0514",
          "claude-2.1",
          "wizardlm-70b",
          "gemini-pro-dev-api",
          "mixtral-8x7b-instruct-v0.1",
          "vicuna-33b",
          "yi-large-preview",
          "yi-34b-chat",
          "gemini-pro",
          "command-r",
          "vicuna-13b",
          "llama-2-70b-chat",
          "tulu-2-dpo-70b",
          "mistral-next",
          "gemini-1.5-flash-api-0514",
          "reka-core-20240501",
          "reka-flash-21b-20240226-online",
          "qwen-max-0428",
          "wizardlm-13b",
          "starling-lm-7b-alpha",
          "reka-flash-21b-20240226",
          "gpt-3.5-turbo-0125",
          "llama-3-8b-instruct",
          "pplx-70b-online",
          "openhermes-2.5-mistral-7b",
          "dolphin-2.2.1-mistral-7b",
          "gpt-3.5-turbo-1106",
          "qwen1.5-32b-chat",
          "starling-lm-7b-beta",
          "openchat-3.5",
          "mixtral-8x22b-instruct-v0.1",
          "claude-3-5-sonnet-20240620",
          "openchat-3.5-0106",
          "llama2-70b-steerlm-chat",
          "llama-2-13b-chat",
          "codellama-34b-instruct",
          "qwen1.5-110b-chat",
          "mpt-30b-chat",
          "qwen1.5-7b-chat",
          "deepseek-llm-67b-chat",
          "nous-hermes-2-mixtral-8x7b-dpo",
          "zephyr-7b-beta",
          "qwen1.5-14b-chat",
          "llama-2-7b-chat",
          "solar-10.7b-instruct-v1.0",
          "zephyr-orpo-141b-A35b-v0.1",
          "dbrx-instruct-preview",
          "mistral-7b-instruct-v0.2",
          "yi-large",
          "guanaco-33b",
          "zephyr-7b-alpha",
          "falcon-180b-chat",
          "koala-13b",
          "glm-4-0116",
          "qwen-14b-chat",
          "palm-2",
          "pplx-7b-online",
          "vicuna-7b",
          "gemini-1.5-pro-exp-0801",
          "nemotron-4-340b-instruct",
          "codellama-70b-instruct",
          "gemma-1.1-7b-it",
          "mistral-7b-instruct",
          "glm-4-0520",
          "qwen2-72b-instruct",
          "stripedhyena-nous-7b",
          "snowflake-arctic-instruct",
          "gemma-7b-it",
          "yi-1.5-34b-chat",
          "gpt-4o-mini-2024-07-18",
          "alpaca-13b",
          "oasst-pythia-12b",
          "RWKV-4-Raven-14B",
          "gpt4all-13b-snoozy",
          "olmo-7b-instruct",
          "deepseek-coder-v2",
          "mpt-7b-chat",
          "phi-3-mini-128k-instruct",
          "chatglm3-6b",
          "gemma-2-27b-it",
          "chatglm-6b",
          "qwen1.5-4b-chat",
          "gemma-2b-it",
          "chatglm2-6b",
          "deepseek-v2-api-0628",
          "stablelm-tuned-alpha-7b",
          "fastchat-t5-3b",
          "reka-flash-preview-20240611",
          "gemma-1.1-2b-it",
          "dolly-v2-12b",
          "llama-13b",
          "gemma-2-9b-it",
          "athene-70b-0725",
          "llama-3.1-405b-instruct",
          "phi-3-medium-4k-instruct",
          "phi-3-mini-4k-instruct",
          "phi-3-small-8k-instruct",
          "mistral-large-2407",
          "llama-3.1-70b-instruct",
          "deepseek-coder-v2-0724",
          "reka-core-20240722",
          "reka-flash-20240722",
          "llama-3.1-8b-instruct",
          "chatgpt-4o-latest",
          "phi-3-mini-4k-instruct-june-2024",
          "gemma-2-2b-it",
          "gpt-4o-2024-08-06"
         ],
         "xaxis": "x2",
         "y": [
          106417,
          74064,
          72848,
          68028,
          51959,
          51953,
          43603,
          41509,
          40224,
          35554,
          32158,
          28132,
          26035,
          25403,
          24297,
          24078,
          23787,
          23767,
          23302,
          23282,
          23144,
          22561,
          22513,
          19396,
          19256,
          19070,
          18486,
          17985,
          17884,
          17664,
          17612,
          16780,
          16485,
          16324,
          16287,
          15662,
          15335,
          15171,
          13407,
          13030,
          12974,
          12919,
          12838,
          12478,
          12473,
          12396,
          12310,
          11984,
          11974,
          11949,
          11865,
          11759,
          11175,
          10869,
          10843,
          10817,
          10795,
          10585,
          10183,
          10094,
          10042,
          9944,
          9923,
          9874,
          9794,
          9724,
          9706,
          9701,
          9438,
          9266,
          9247,
          9243,
          9152,
          9024,
          8644,
          8556,
          8490,
          7911,
          7729,
          7718,
          7360,
          6939,
          6772,
          6636,
          6435,
          6384,
          6234,
          5982,
          5981,
          5743,
          5714,
          5319,
          5271,
          4510,
          4477,
          4470,
          4445,
          4440,
          4427,
          4305,
          4252,
          4250,
          4157,
          4090,
          4073,
          3940,
          3778,
          3697,
          3589,
          3576,
          3564,
          3206,
          3081,
          3067,
          3041,
          2901,
          2853,
          2738,
          2473,
          2324,
          2114,
          1408,
          1135,
          939,
          893,
          820,
          681,
          560,
          456
         ],
         "yaxis": "y2"
        }
       ],
       "layout": {
        "annotations": [
         {
          "font": {
           "size": 16
          },
          "showarrow": false,
          "text": "Battle Count for Each Model",
          "x": 0.5,
          "xanchor": "center",
          "xref": "paper",
          "y": 1,
          "yanchor": "bottom",
          "yref": "paper"
         },
         {
          "font": {
           "size": 16
          },
          "showarrow": false,
          "text": "Route Count for Each Model",
          "x": 0.5,
          "xanchor": "center",
          "xref": "paper",
          "y": 0.375,
          "yanchor": "bottom",
          "yref": "paper"
         }
        ],
        "height": 1000,
        "showlegend": false,
        "template": {
         "data": {
          "bar": [
           {
            "error_x": {
             "color": "#2a3f5f"
            },
            "error_y": {
             "color": "#2a3f5f"
            },
            "marker": {
             "line": {
              "color": "#E5ECF6",
              "width": 0.5
             },
             "pattern": {
              "fillmode": "overlay",
              "size": 10,
              "solidity": 0.2
             }
            },
            "type": "bar"
           }
          ],
          "barpolar": [
           {
            "marker": {
             "line": {
              "color": "#E5ECF6",
              "width": 0.5
             },
             "pattern": {
              "fillmode": "overlay",
              "size": 10,
              "solidity": 0.2
             }
            },
            "type": "barpolar"
           }
          ],
          "carpet": [
           {
            "aaxis": {
             "endlinecolor": "#2a3f5f",
             "gridcolor": "white",
             "linecolor": "white",
             "minorgridcolor": "white",
             "startlinecolor": "#2a3f5f"
            },
            "baxis": {
             "endlinecolor": "#2a3f5f",
             "gridcolor": "white",
             "linecolor": "white",
             "minorgridcolor": "white",
             "startlinecolor": "#2a3f5f"
            },
            "type": "carpet"
           }
          ],
          "choropleth": [
           {
            "colorbar": {
             "outlinewidth": 0,
             "ticks": ""
            },
            "type": "choropleth"
           }
          ],
          "contour": [
           {
            "colorbar": {
             "outlinewidth": 0,
             "ticks": ""
            },
            "colorscale": [
             [
              0,
              "#0d0887"
             ],
             [
              0.1111111111111111,
              "#46039f"
             ],
             [
              0.2222222222222222,
              "#7201a8"
             ],
             [
              0.3333333333333333,
              "#9c179e"
             ],
             [
              0.4444444444444444,
              "#bd3786"
             ],
             [
              0.5555555555555556,
              "#d8576b"
             ],
             [
              0.6666666666666666,
              "#ed7953"
             ],
             [
              0.7777777777777778,
              "#fb9f3a"
             ],
             [
              0.8888888888888888,
              "#fdca26"
             ],
             [
              1,
              "#f0f921"
             ]
            ],
            "type": "contour"
           }
          ],
          "contourcarpet": [
           {
            "colorbar": {
             "outlinewidth": 0,
             "ticks": ""
            },
            "type": "contourcarpet"
           }
          ],
          "heatmap": [
           {
            "colorbar": {
             "outlinewidth": 0,
             "ticks": ""
            },
            "colorscale": [
             [
              0,
              "#0d0887"
             ],
             [
              0.1111111111111111,
              "#46039f"
             ],
             [
              0.2222222222222222,
              "#7201a8"
             ],
             [
              0.3333333333333333,
              "#9c179e"
             ],
             [
              0.4444444444444444,
              "#bd3786"
             ],
             [
              0.5555555555555556,
              "#d8576b"
             ],
             [
              0.6666666666666666,
              "#ed7953"
             ],
             [
              0.7777777777777778,
              "#fb9f3a"
             ],
             [
              0.8888888888888888,
              "#fdca26"
             ],
             [
              1,
              "#f0f921"
             ]
            ],
            "type": "heatmap"
           }
          ],
          "heatmapgl": [
           {
            "colorbar": {
             "outlinewidth": 0,
             "ticks": ""
            },
            "colorscale": [
             [
              0,
              "#0d0887"
             ],
             [
              0.1111111111111111,
              "#46039f"
             ],
             [
              0.2222222222222222,
              "#7201a8"
             ],
             [
              0.3333333333333333,
              "#9c179e"
             ],
             [
              0.4444444444444444,
              "#bd3786"
             ],
             [
              0.5555555555555556,
              "#d8576b"
             ],
             [
              0.6666666666666666,
              "#ed7953"
             ],
             [
              0.7777777777777778,
              "#fb9f3a"
             ],
             [
              0.8888888888888888,
              "#fdca26"
             ],
             [
              1,
              "#f0f921"
             ]
            ],
            "type": "heatmapgl"
           }
          ],
          "histogram": [
           {
            "marker": {
             "pattern": {
              "fillmode": "overlay",
              "size": 10,
              "solidity": 0.2
             }
            },
            "type": "histogram"
           }
          ],
          "histogram2d": [
           {
            "colorbar": {
             "outlinewidth": 0,
             "ticks": ""
            },
            "colorscale": [
             [
              0,
              "#0d0887"
             ],
             [
              0.1111111111111111,
              "#46039f"
             ],
             [
              0.2222222222222222,
              "#7201a8"
             ],
             [
              0.3333333333333333,
              "#9c179e"
             ],
             [
              0.4444444444444444,
              "#bd3786"
             ],
             [
              0.5555555555555556,
              "#d8576b"
             ],
             [
              0.6666666666666666,
              "#ed7953"
             ],
             [
              0.7777777777777778,
              "#fb9f3a"
             ],
             [
              0.8888888888888888,
              "#fdca26"
             ],
             [
              1,
              "#f0f921"
             ]
            ],
            "type": "histogram2d"
           }
          ],
          "histogram2dcontour": [
           {
            "colorbar": {
             "outlinewidth": 0,
             "ticks": ""
            },
            "colorscale": [
             [
              0,
              "#0d0887"
             ],
             [
              0.1111111111111111,
              "#46039f"
             ],
             [
              0.2222222222222222,
              "#7201a8"
             ],
             [
              0.3333333333333333,
              "#9c179e"
             ],
             [
              0.4444444444444444,
              "#bd3786"
             ],
             [
              0.5555555555555556,
              "#d8576b"
             ],
             [
              0.6666666666666666,
              "#ed7953"
             ],
             [
              0.7777777777777778,
              "#fb9f3a"
             ],
             [
              0.8888888888888888,
              "#fdca26"
             ],
             [
              1,
              "#f0f921"
             ]
            ],
            "type": "histogram2dcontour"
           }
          ],
          "mesh3d": [
           {
            "colorbar": {
             "outlinewidth": 0,
             "ticks": ""
            },
            "type": "mesh3d"
           }
          ],
          "parcoords": [
           {
            "line": {
             "colorbar": {
              "outlinewidth": 0,
              "ticks": ""
             }
            },
            "type": "parcoords"
           }
          ],
          "pie": [
           {
            "automargin": true,
            "type": "pie"
           }
          ],
          "scatter": [
           {
            "fillpattern": {
             "fillmode": "overlay",
             "size": 10,
             "solidity": 0.2
            },
            "type": "scatter"
           }
          ],
          "scatter3d": [
           {
            "line": {
             "colorbar": {
              "outlinewidth": 0,
              "ticks": ""
             }
            },
            "marker": {
             "colorbar": {
              "outlinewidth": 0,
              "ticks": ""
             }
            },
            "type": "scatter3d"
           }
          ],
          "scattercarpet": [
           {
            "marker": {
             "colorbar": {
              "outlinewidth": 0,
              "ticks": ""
             }
            },
            "type": "scattercarpet"
           }
          ],
          "scattergeo": [
           {
            "marker": {
             "colorbar": {
              "outlinewidth": 0,
              "ticks": ""
             }
            },
            "type": "scattergeo"
           }
          ],
          "scattergl": [
           {
            "marker": {
             "colorbar": {
              "outlinewidth": 0,
              "ticks": ""
             }
            },
            "type": "scattergl"
           }
          ],
          "scattermapbox": [
           {
            "marker": {
             "colorbar": {
              "outlinewidth": 0,
              "ticks": ""
             }
            },
            "type": "scattermapbox"
           }
          ],
          "scatterpolar": [
           {
            "marker": {
             "colorbar": {
              "outlinewidth": 0,
              "ticks": ""
             }
            },
            "type": "scatterpolar"
           }
          ],
          "scatterpolargl": [
           {
            "marker": {
             "colorbar": {
              "outlinewidth": 0,
              "ticks": ""
             }
            },
            "type": "scatterpolargl"
           }
          ],
          "scatterternary": [
           {
            "marker": {
             "colorbar": {
              "outlinewidth": 0,
              "ticks": ""
             }
            },
            "type": "scatterternary"
           }
          ],
          "surface": [
           {
            "colorbar": {
             "outlinewidth": 0,
             "ticks": ""
            },
            "colorscale": [
             [
              0,
              "#0d0887"
             ],
             [
              0.1111111111111111,
              "#46039f"
             ],
             [
              0.2222222222222222,
              "#7201a8"
             ],
             [
              0.3333333333333333,
              "#9c179e"
             ],
             [
              0.4444444444444444,
              "#bd3786"
             ],
             [
              0.5555555555555556,
              "#d8576b"
             ],
             [
              0.6666666666666666,
              "#ed7953"
             ],
             [
              0.7777777777777778,
              "#fb9f3a"
             ],
             [
              0.8888888888888888,
              "#fdca26"
             ],
             [
              1,
              "#f0f921"
             ]
            ],
            "type": "surface"
           }
          ],
          "table": [
           {
            "cells": {
             "fill": {
              "color": "#EBF0F8"
             },
             "line": {
              "color": "white"
             }
            },
            "header": {
             "fill": {
              "color": "#C8D4E3"
             },
             "line": {
              "color": "white"
             }
            },
            "type": "table"
           }
          ]
         },
         "layout": {
          "annotationdefaults": {
           "arrowcolor": "#2a3f5f",
           "arrowhead": 0,
           "arrowwidth": 1
          },
          "autotypenumbers": "strict",
          "coloraxis": {
           "colorbar": {
            "outlinewidth": 0,
            "ticks": ""
           }
          },
          "colorscale": {
           "diverging": [
            [
             0,
             "#8e0152"
            ],
            [
             0.1,
             "#c51b7d"
            ],
            [
             0.2,
             "#de77ae"
            ],
            [
             0.3,
             "#f1b6da"
            ],
            [
             0.4,
             "#fde0ef"
            ],
            [
             0.5,
             "#f7f7f7"
            ],
            [
             0.6,
             "#e6f5d0"
            ],
            [
             0.7,
             "#b8e186"
            ],
            [
             0.8,
             "#7fbc41"
            ],
            [
             0.9,
             "#4d9221"
            ],
            [
             1,
             "#276419"
            ]
           ],
           "sequential": [
            [
             0,
             "#0d0887"
            ],
            [
             0.1111111111111111,
             "#46039f"
            ],
            [
             0.2222222222222222,
             "#7201a8"
            ],
            [
             0.3333333333333333,
             "#9c179e"
            ],
            [
             0.4444444444444444,
             "#bd3786"
            ],
            [
             0.5555555555555556,
             "#d8576b"
            ],
            [
             0.6666666666666666,
             "#ed7953"
            ],
            [
             0.7777777777777778,
             "#fb9f3a"
            ],
            [
             0.8888888888888888,
             "#fdca26"
            ],
            [
             1,
             "#f0f921"
            ]
           ],
           "sequentialminus": [
            [
             0,
             "#0d0887"
            ],
            [
             0.1111111111111111,
             "#46039f"
            ],
            [
             0.2222222222222222,
             "#7201a8"
            ],
            [
             0.3333333333333333,
             "#9c179e"
            ],
            [
             0.4444444444444444,
             "#bd3786"
            ],
            [
             0.5555555555555556,
             "#d8576b"
            ],
            [
             0.6666666666666666,
             "#ed7953"
            ],
            [
             0.7777777777777778,
             "#fb9f3a"
            ],
            [
             0.8888888888888888,
             "#fdca26"
            ],
            [
             1,
             "#f0f921"
            ]
           ]
          },
          "colorway": [
           "#636efa",
           "#EF553B",
           "#00cc96",
           "#ab63fa",
           "#FFA15A",
           "#19d3f3",
           "#FF6692",
           "#B6E880",
           "#FF97FF",
           "#FECB52"
          ],
          "font": {
           "color": "#2a3f5f"
          },
          "geo": {
           "bgcolor": "white",
           "lakecolor": "white",
           "landcolor": "#E5ECF6",
           "showlakes": true,
           "showland": true,
           "subunitcolor": "white"
          },
          "hoverlabel": {
           "align": "left"
          },
          "hovermode": "closest",
          "mapbox": {
           "style": "light"
          },
          "paper_bgcolor": "white",
          "plot_bgcolor": "#E5ECF6",
          "polar": {
           "angularaxis": {
            "gridcolor": "white",
            "linecolor": "white",
            "ticks": ""
           },
           "bgcolor": "#E5ECF6",
           "radialaxis": {
            "gridcolor": "white",
            "linecolor": "white",
            "ticks": ""
           }
          },
          "scene": {
           "xaxis": {
            "backgroundcolor": "#E5ECF6",
            "gridcolor": "white",
            "gridwidth": 2,
            "linecolor": "white",
            "showbackground": true,
            "ticks": "",
            "zerolinecolor": "white"
           },
           "yaxis": {
            "backgroundcolor": "#E5ECF6",
            "gridcolor": "white",
            "gridwidth": 2,
            "linecolor": "white",
            "showbackground": true,
            "ticks": "",
            "zerolinecolor": "white"
           },
           "zaxis": {
            "backgroundcolor": "#E5ECF6",
            "gridcolor": "white",
            "gridwidth": 2,
            "linecolor": "white",
            "showbackground": true,
            "ticks": "",
            "zerolinecolor": "white"
           }
          },
          "shapedefaults": {
           "line": {
            "color": "#2a3f5f"
           }
          },
          "ternary": {
           "aaxis": {
            "gridcolor": "white",
            "linecolor": "white",
            "ticks": ""
           },
           "baxis": {
            "gridcolor": "white",
            "linecolor": "white",
            "ticks": ""
           },
           "bgcolor": "#E5ECF6",
           "caxis": {
            "gridcolor": "white",
            "linecolor": "white",
            "ticks": ""
           }
          },
          "title": {
           "x": 0.05
          },
          "xaxis": {
           "automargin": true,
           "gridcolor": "white",
           "linecolor": "white",
           "ticks": "",
           "title": {
            "standoff": 15
           },
           "zerolinecolor": "white",
           "zerolinewidth": 2
          },
          "yaxis": {
           "automargin": true,
           "gridcolor": "white",
           "linecolor": "white",
           "ticks": "",
           "title": {
            "standoff": 15
           },
           "zerolinecolor": "white",
           "zerolinewidth": 2
          }
         }
        },
        "title": {
         "text": "Battle Count vs Route Count"
        },
        "xaxis": {
         "anchor": "y",
         "domain": [
          0,
          1
         ],
         "title": {
          "text": "Model"
         }
        },
        "xaxis2": {
         "anchor": "y2",
         "domain": [
          0,
          1
         ],
         "title": {
          "text": "Model"
         }
        },
        "yaxis": {
         "anchor": "x",
         "domain": [
          0.625,
          1
         ],
         "title": {
          "text": "Count"
         }
        },
        "yaxis2": {
         "anchor": "x2",
         "domain": [
          0,
          0.375
         ],
         "title": {
          "text": "Count"
         }
        }
       }
      }
     },
     "metadata": {},
     "output_type": "display_data"
    }
   ],
   "source": [
    "# Battle Count vs Route Count\n",
    "\n",
    "\n",
    "fig = make_subplots(rows=2, cols=1, subplot_titles=(\"Battle Count for Each Model\", \"Route Count for Each Model\"))\n",
    "\n",
    "battle_counts = pd.concat([battles[\"model_a\"], battles[\"model_b\"]]).value_counts()\n",
    "fig.add_trace(go.Bar(x=battle_counts.index, y=battle_counts.values, name=\"Battle Count\"), row=1, col=1)\n",
    "\n",
    "route_counts = pd.concat([route_df[\"model_a\"], route_df[\"model_b\"]]).value_counts()\n",
    "fig.add_trace(go.Bar(x=route_counts.index, y=route_counts.values, name=\"Route Count\"), row=2, col=1)\n",
    "\n",
    "fig.update_layout(height=1000, showlegend=False, title_text=\"Battle Count vs Route Count\")\n",
    "fig.update_xaxes(title_text=\"Model\", row=1, col=1)\n",
    "fig.update_xaxes(title_text=\"Model\", row=2, col=1)\n",
    "fig.update_yaxes(title_text=\"Count\", row=1, col=1)\n",
    "fig.update_yaxes(title_text=\"Count\", row=2, col=1)\n",
    "\n",
    "# Show the figure\n",
    "fig.show()"
   ]
  },
  {
   "cell_type": "code",
   "execution_count": null,
   "metadata": {},
   "outputs": [],
   "source": []
  }
 ],
 "metadata": {
  "kernelspec": {
   "display_name": "ys-dev",
   "language": "python",
   "name": "python3"
  },
  "language_info": {
   "codemirror_mode": {
    "name": "ipython",
    "version": 3
   },
   "file_extension": ".py",
   "mimetype": "text/x-python",
   "name": "python",
   "nbconvert_exporter": "python",
   "pygments_lexer": "ipython3",
   "version": "3.11.0"
  }
 },
 "nbformat": 4,
 "nbformat_minor": 2
}
