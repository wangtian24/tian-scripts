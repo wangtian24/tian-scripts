{
 "cells": [
  {
   "cell_type": "code",
   "execution_count": 18,
   "metadata": {},
   "outputs": [
    {
     "name": "stdout",
     "output_type": "stream",
     "text": [
      "The autoreload extension is already loaded. To reload it, use:\n",
      "  %reload_ext autoreload\n"
     ]
    }
   ],
   "source": [
    "%load_ext autoreload\n",
    "%autoreload 2\n",
    "\n",
    "import pandas as pd\n",
    "\n",
    "df = pd.read_csv(\"responses.tsv\", sep=\"\\t\")\n",
    "df = pd.concat([df[df.user_choice == \"Correct\"], df[(df.suggested_label.notna()) & (df.user_choice != \"Correct\")]])\n",
    "# df = df[(df.suggested_label.notna()) & (df.user_choice != \"Correct\")]"
   ]
  },
  {
   "cell_type": "code",
   "execution_count": 19,
   "metadata": {},
   "outputs": [
    {
     "data": {
      "text/html": [
       "<div>\n",
       "<style scoped>\n",
       "    .dataframe tbody tr th:only-of-type {\n",
       "        vertical-align: middle;\n",
       "    }\n",
       "\n",
       "    .dataframe tbody tr th {\n",
       "        vertical-align: top;\n",
       "    }\n",
       "\n",
       "    .dataframe thead th {\n",
       "        text-align: right;\n",
       "    }\n",
       "</style>\n",
       "<table border=\"1\" class=\"dataframe\">\n",
       "  <thead>\n",
       "    <tr style=\"text-align: right;\">\n",
       "      <th></th>\n",
       "      <th>user</th>\n",
       "      <th>text</th>\n",
       "      <th>generated_label</th>\n",
       "      <th>user_choice</th>\n",
       "      <th>suggested_label</th>\n",
       "      <th>conversation_id</th>\n",
       "    </tr>\n",
       "  </thead>\n",
       "  <tbody>\n",
       "    <tr>\n",
       "      <th>0</th>\n",
       "      <td>Carmen</td>\n",
       "      <td>Vertel iets in het Nederlands over Duitsland.</td>\n",
       "      <td>Factual</td>\n",
       "      <td>Correct</td>\n",
       "      <td>NaN</td>\n",
       "      <td>f729287836834ffa93383199fa3f4785</td>\n",
       "    </tr>\n",
       "    <tr>\n",
       "      <th>1</th>\n",
       "      <td>Carmen</td>\n",
       "      <td>смысл жизни</td>\n",
       "      <td>Opinion</td>\n",
       "      <td>Correct</td>\n",
       "      <td>NaN</td>\n",
       "      <td>5503ba243e8b4467b803d6d1c02ea85d</td>\n",
       "    </tr>\n",
       "    <tr>\n",
       "      <th>2</th>\n",
       "      <td>Carmen</td>\n",
       "      <td>А напиши стилизацию для страницы, которую ты н...</td>\n",
       "      <td>Code</td>\n",
       "      <td>Correct</td>\n",
       "      <td>NaN</td>\n",
       "      <td>8d5a34c551a54091a80147a1e4602d3d</td>\n",
       "    </tr>\n",
       "    <tr>\n",
       "      <th>3</th>\n",
       "      <td>Carmen</td>\n",
       "      <td>The user is sending an instruction to a robot....</td>\n",
       "      <td>Code</td>\n",
       "      <td>Correct</td>\n",
       "      <td>NaN</td>\n",
       "      <td>a0df0440c8d94383b361dc680a222bcb</td>\n",
       "    </tr>\n",
       "    <tr>\n",
       "      <th>4</th>\n",
       "      <td>Carmen</td>\n",
       "      <td>Do not generate \"As an AI language model\" use ...</td>\n",
       "      <td>Opinion</td>\n",
       "      <td>Correct</td>\n",
       "      <td>NaN</td>\n",
       "      <td>00ff24bd197c474d8a48bdf6a38807a6</td>\n",
       "    </tr>\n",
       "    <tr>\n",
       "      <th>...</th>\n",
       "      <td>...</td>\n",
       "      <td>...</td>\n",
       "      <td>...</td>\n",
       "      <td>...</td>\n",
       "      <td>...</td>\n",
       "      <td>...</td>\n",
       "    </tr>\n",
       "    <tr>\n",
       "      <th>119</th>\n",
       "      <td>gilad</td>\n",
       "      <td>ключевые идеи жиля де лёза</td>\n",
       "      <td>Factual</td>\n",
       "      <td>Incorrect</td>\n",
       "      <td>Multilingual</td>\n",
       "      <td>6f23427b199a43098df4e49ea3342d8e</td>\n",
       "    </tr>\n",
       "    <tr>\n",
       "      <th>120</th>\n",
       "      <td>gilad</td>\n",
       "      <td>was ist ein integer</td>\n",
       "      <td>Factual</td>\n",
       "      <td>Incorrect</td>\n",
       "      <td>Math</td>\n",
       "      <td>cc62dd47e7ba4fe7ab77f922b0e52436</td>\n",
       "    </tr>\n",
       "    <tr>\n",
       "      <th>131</th>\n",
       "      <td>gilad</td>\n",
       "      <td>你是谁</td>\n",
       "      <td>Factual</td>\n",
       "      <td>Incorrect</td>\n",
       "      <td>Multilingual</td>\n",
       "      <td>03e94df8fc1a43f98c48fd27128bce29</td>\n",
       "    </tr>\n",
       "    <tr>\n",
       "      <th>138</th>\n",
       "      <td>AB</td>\n",
       "      <td>Qual arquivo é usado pelo navegador para persi...</td>\n",
       "      <td>Factual</td>\n",
       "      <td>Incorrect</td>\n",
       "      <td>Multilingual</td>\n",
       "      <td>7859c868fa2442328a5e82586b416ab0</td>\n",
       "    </tr>\n",
       "    <tr>\n",
       "      <th>178</th>\n",
       "      <td>Ralph</td>\n",
       "      <td>Tell me if the following statement denotes a f...</td>\n",
       "      <td>Opinion</td>\n",
       "      <td>Incorrect</td>\n",
       "      <td>Factual</td>\n",
       "      <td>e3dc629213564c7f9decfee899f56ffb</td>\n",
       "    </tr>\n",
       "  </tbody>\n",
       "</table>\n",
       "<p>174 rows × 6 columns</p>\n",
       "</div>"
      ],
      "text/plain": [
       "       user                                               text  \\\n",
       "0    Carmen      Vertel iets in het Nederlands over Duitsland.   \n",
       "1    Carmen                                        смысл жизни   \n",
       "2    Carmen  А напиши стилизацию для страницы, которую ты н...   \n",
       "3    Carmen  The user is sending an instruction to a robot....   \n",
       "4    Carmen  Do not generate \"As an AI language model\" use ...   \n",
       "..      ...                                                ...   \n",
       "119   gilad                         ключевые идеи жиля де лёза   \n",
       "120   gilad                                was ist ein integer   \n",
       "131   gilad                                                你是谁   \n",
       "138      AB  Qual arquivo é usado pelo navegador para persi...   \n",
       "178   Ralph  Tell me if the following statement denotes a f...   \n",
       "\n",
       "    generated_label user_choice suggested_label  \\\n",
       "0           Factual     Correct             NaN   \n",
       "1           Opinion     Correct             NaN   \n",
       "2              Code     Correct             NaN   \n",
       "3              Code     Correct             NaN   \n",
       "4           Opinion     Correct             NaN   \n",
       "..              ...         ...             ...   \n",
       "119         Factual   Incorrect    Multilingual   \n",
       "120         Factual   Incorrect            Math   \n",
       "131         Factual   Incorrect    Multilingual   \n",
       "138         Factual   Incorrect    Multilingual   \n",
       "178         Opinion   Incorrect         Factual   \n",
       "\n",
       "                      conversation_id  \n",
       "0    f729287836834ffa93383199fa3f4785  \n",
       "1    5503ba243e8b4467b803d6d1c02ea85d  \n",
       "2    8d5a34c551a54091a80147a1e4602d3d  \n",
       "3    a0df0440c8d94383b361dc680a222bcb  \n",
       "4    00ff24bd197c474d8a48bdf6a38807a6  \n",
       "..                                ...  \n",
       "119  6f23427b199a43098df4e49ea3342d8e  \n",
       "120  cc62dd47e7ba4fe7ab77f922b0e52436  \n",
       "131  03e94df8fc1a43f98c48fd27128bce29  \n",
       "138  7859c868fa2442328a5e82586b416ab0  \n",
       "178  e3dc629213564c7f9decfee899f56ffb  \n",
       "\n",
       "[174 rows x 6 columns]"
      ]
     },
     "execution_count": 19,
     "metadata": {},
     "output_type": "execute_result"
    }
   ],
   "source": [
    "df"
   ]
  },
  {
   "cell_type": "code",
   "execution_count": 20,
   "metadata": {},
   "outputs": [],
   "source": [
    "data = []\n",
    "\n",
    "for _, row in df.iterrows():\n",
    "    data.append(\n",
    "        dict(\n",
    "            prompt=row[\"text\"],\n",
    "            category=row[\"generated_label\"] if row[\"user_choice\"] == \"Correct\" else row[\"suggested_label\"],\n",
    "        )\n",
    "    )"
   ]
  },
  {
   "cell_type": "code",
   "execution_count": 21,
   "metadata": {},
   "outputs": [],
   "source": [
    "df = pd.DataFrame(data)"
   ]
  },
  {
   "cell_type": "code",
   "execution_count": 27,
   "metadata": {},
   "outputs": [
    {
     "name": "stderr",
     "output_type": "stream",
     "text": [
      "Some weights of DebertaV2ForSequenceClassification were not initialized from the model checkpoint at microsoft/deberta-v3-base and are newly initialized: ['classifier.bias', 'classifier.weight', 'pooler.dense.bias', 'pooler.dense.weight']\n",
      "You should probably TRAIN this model on a down-stream task to be able to use it for predictions and inference.\n",
      "Some weights of DebertaV2ForSequenceClassification were not initialized from the model checkpoint at microsoft/deberta-v3-base and are newly initialized: ['classifier.bias', 'classifier.weight', 'pooler.dense.bias', 'pooler.dense.weight']\n",
      "You should probably TRAIN this model on a down-stream task to be able to use it for predictions and inference.\n"
     ]
    },
    {
     "data": {
      "text/plain": [
       "CategorizerClassificationModel(\n",
       "  (category_model): DebertaV2ForSequenceClassification(\n",
       "    (deberta): DebertaV2Model(\n",
       "      (embeddings): DebertaV2Embeddings(\n",
       "        (word_embeddings): Embedding(128100, 768, padding_idx=0)\n",
       "        (LayerNorm): LayerNorm((768,), eps=1e-07, elementwise_affine=True)\n",
       "        (dropout): StableDropout()\n",
       "      )\n",
       "      (encoder): DebertaV2Encoder(\n",
       "        (layer): ModuleList(\n",
       "          (0-11): 12 x DebertaV2Layer(\n",
       "            (attention): DebertaV2Attention(\n",
       "              (self): DisentangledSelfAttention(\n",
       "                (query_proj): Linear(in_features=768, out_features=768, bias=True)\n",
       "                (key_proj): Linear(in_features=768, out_features=768, bias=True)\n",
       "                (value_proj): Linear(in_features=768, out_features=768, bias=True)\n",
       "                (pos_dropout): StableDropout()\n",
       "                (dropout): StableDropout()\n",
       "              )\n",
       "              (output): DebertaV2SelfOutput(\n",
       "                (dense): Linear(in_features=768, out_features=768, bias=True)\n",
       "                (LayerNorm): LayerNorm((768,), eps=1e-07, elementwise_affine=True)\n",
       "                (dropout): StableDropout()\n",
       "              )\n",
       "            )\n",
       "            (intermediate): DebertaV2Intermediate(\n",
       "              (dense): Linear(in_features=768, out_features=3072, bias=True)\n",
       "              (intermediate_act_fn): GELUActivation()\n",
       "            )\n",
       "            (output): DebertaV2Output(\n",
       "              (dense): Linear(in_features=3072, out_features=768, bias=True)\n",
       "              (LayerNorm): LayerNorm((768,), eps=1e-07, elementwise_affine=True)\n",
       "              (dropout): StableDropout()\n",
       "            )\n",
       "          )\n",
       "        )\n",
       "        (rel_embeddings): Embedding(512, 768)\n",
       "        (LayerNorm): LayerNorm((768,), eps=1e-07, elementwise_affine=True)\n",
       "      )\n",
       "    )\n",
       "    (pooler): ContextPooler(\n",
       "      (dense): Linear(in_features=768, out_features=768, bias=True)\n",
       "      (dropout): StableDropout()\n",
       "    )\n",
       "    (classifier): Linear(in_features=768, out_features=14, bias=True)\n",
       "    (dropout): StableDropout()\n",
       "  )\n",
       "  (difficulty_model): DebertaV2ForSequenceClassification(\n",
       "    (deberta): DebertaV2Model(\n",
       "      (embeddings): DebertaV2Embeddings(\n",
       "        (word_embeddings): Embedding(128100, 768, padding_idx=0)\n",
       "        (LayerNorm): LayerNorm((768,), eps=1e-07, elementwise_affine=True)\n",
       "        (dropout): StableDropout()\n",
       "      )\n",
       "      (encoder): DebertaV2Encoder(\n",
       "        (layer): ModuleList(\n",
       "          (0-11): 12 x DebertaV2Layer(\n",
       "            (attention): DebertaV2Attention(\n",
       "              (self): DisentangledSelfAttention(\n",
       "                (query_proj): Linear(in_features=768, out_features=768, bias=True)\n",
       "                (key_proj): Linear(in_features=768, out_features=768, bias=True)\n",
       "                (value_proj): Linear(in_features=768, out_features=768, bias=True)\n",
       "                (pos_dropout): StableDropout()\n",
       "                (dropout): StableDropout()\n",
       "              )\n",
       "              (output): DebertaV2SelfOutput(\n",
       "                (dense): Linear(in_features=768, out_features=768, bias=True)\n",
       "                (LayerNorm): LayerNorm((768,), eps=1e-07, elementwise_affine=True)\n",
       "                (dropout): StableDropout()\n",
       "              )\n",
       "            )\n",
       "            (intermediate): DebertaV2Intermediate(\n",
       "              (dense): Linear(in_features=768, out_features=3072, bias=True)\n",
       "              (intermediate_act_fn): GELUActivation()\n",
       "            )\n",
       "            (output): DebertaV2Output(\n",
       "              (dense): Linear(in_features=3072, out_features=768, bias=True)\n",
       "              (LayerNorm): LayerNorm((768,), eps=1e-07, elementwise_affine=True)\n",
       "              (dropout): StableDropout()\n",
       "            )\n",
       "          )\n",
       "        )\n",
       "        (rel_embeddings): Embedding(512, 768)\n",
       "        (LayerNorm): LayerNorm((768,), eps=1e-07, elementwise_affine=True)\n",
       "      )\n",
       "    )\n",
       "    (pooler): ContextPooler(\n",
       "      (dense): Linear(in_features=768, out_features=768, bias=True)\n",
       "      (dropout): StableDropout()\n",
       "    )\n",
       "    (classifier): Linear(in_features=768, out_features=10, bias=True)\n",
       "    (dropout): StableDropout()\n",
       "  )\n",
       ")"
      ]
     },
     "execution_count": 27,
     "metadata": {},
     "output_type": "execute_result"
    }
   ],
   "source": [
    "from ypl.pytorch.model.categorizer import CategorizerClassificationModel\n",
    "\n",
    "categorizer = CategorizerClassificationModel.from_pretrained(\"deberta-base-v3-local\").cuda()\n",
    "categorizer.eval()\n",
    "# categorizer.compile_cuda_graphs()"
   ]
  },
  {
   "cell_type": "code",
   "execution_count": 28,
   "metadata": {},
   "outputs": [
    {
     "name": "stdout",
     "output_type": "stream",
     "text": [
      "0.6436781609195402\n"
     ]
    }
   ],
   "source": [
    "accuracy = []\n",
    "\n",
    "for _, row in df.iterrows():\n",
    "    accuracy.append(int(categorizer.categorize(row[\"prompt\"])[0] == row[\"category\"]))\n",
    "\n",
    "print(sum(accuracy) / len(accuracy))"
   ]
  },
  {
   "cell_type": "code",
   "execution_count": 17,
   "metadata": {},
   "outputs": [
    {
     "name": "stdout",
     "output_type": "stream",
     "text": [
      "0.17391304347826086\n"
     ]
    }
   ],
   "source": [
    "accuracy = []\n",
    "\n",
    "for _, row in df.iterrows():\n",
    "    accuracy.append(int(categorizer.categorize(row[\"prompt\"])[0] == row[\"category\"]))\n",
    "\n",
    "print(sum(accuracy) / len(accuracy))"
   ]
  },
  {
   "cell_type": "code",
   "execution_count": 22,
   "metadata": {},
   "outputs": [
    {
     "name": "stdout",
     "output_type": "stream",
     "text": [
      "0.6091954022988506\n"
     ]
    }
   ],
   "source": [
    "accuracy = []\n",
    "\n",
    "for _, row in df.iterrows():\n",
    "    accuracy.append(int(categorizer.categorize(row[\"prompt\"])[0] == row[\"category\"]))\n",
    "\n",
    "print(sum(accuracy) / len(accuracy))"
   ]
  },
  {
   "cell_type": "code",
   "execution_count": null,
   "metadata": {},
   "outputs": [],
   "source": []
  }
 ],
 "metadata": {
  "kernelspec": {
   "display_name": "ys-dev",
   "language": "python",
   "name": "python3"
  },
  "language_info": {
   "codemirror_mode": {
    "name": "ipython",
    "version": 3
   },
   "file_extension": ".py",
   "mimetype": "text/x-python",
   "name": "python",
   "nbconvert_exporter": "python",
   "pygments_lexer": "ipython3",
   "version": "3.11.0"
  }
 },
 "nbformat": 4,
 "nbformat_minor": 2
}
