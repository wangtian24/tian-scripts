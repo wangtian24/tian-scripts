{
 "cells": [
  {
   "cell_type": "code",
   "execution_count": 44,
   "metadata": {},
   "outputs": [
    {
     "name": "stdout",
     "output_type": "stream",
     "text": [
      "The autoreload extension is already loaded. To reload it, use:\n",
      "  %reload_ext autoreload\n"
     ]
    }
   ],
   "source": [
    "%load_ext autoreload\n",
    "%autoreload 2\n",
    "\n",
    "import json\n",
    "from pathlib import Path\n",
    "\n",
    "from langchain.prompts import ChatPromptTemplate\n",
    "import pandas as pd\n",
    "\n",
    "from ypl.backend.llm.chat import get_chat_model, ModelInfo\n",
    "\n",
    "\n",
    "template = ChatPromptTemplate.from_messages(\n",
    "    [(\"human\", \"\"\"You are a model that will give very concise responses.\n",
    "IMPORTANT: don't add any explanations on the answer;\n",
    "don't write full sentences, unless the user is very specifically asking you for a long answer;\n",
    "for answers that are non-factual, make it witty or funny, but still brief;\n",
    "if the user asks to output markdown or any markup, return the cleaned text only;\n",
    "do not use newlines;\n",
    "NEVER prompt for more information, feedback, or responses.\n",
    "Respond in fewer than 160 characters, in the language of the user's message.\n",
    "\n",
    "Here are some examples: \n",
    "\n",
    "Question: Why is the sky blue? \n",
    "Answer: Rayleigh scattering of sunlight by the atmosphere.\n",
    "\n",
    "Question: what is the meaning of life?\n",
    "Answer: 42\n",
    "\n",
    "Question: How many people are there in the US? \n",
    "Answer: 333.3 million\n",
    "\n",
    "Question: Should I buy Elden Ring?\n",
    "Answer: Only if you enjoy gorgeous landscapes and repeatedly dying in them\n",
    "      \n",
    "Respond to this prompt: {prompt}\"\"\")]\n",
    ")\n",
    "\n",
    "\n",
    "data = json.loads(Path(\"../qt-gen.json\").read_text())\n",
    "llms = []\n",
    "\n",
    "for llm in data[\"eval_llms\"]:\n",
    "    model_info = ModelInfo(**llm[\"info\"])\n",
    "    llms.append((model_info, template | get_chat_model(model_info)))\n"
   ]
  },
  {
   "cell_type": "code",
   "execution_count": 45,
   "metadata": {},
   "outputs": [],
   "source": [
    "import random\n",
    "\n",
    "df = pd.read_csv(\"allall.tsv\", sep=\"\\t\")\n",
    "df[\"single_cat\"] = df.category.apply(lambda x: random.choice(eval(x)))"
   ]
  },
  {
   "cell_type": "code",
   "execution_count": 46,
   "metadata": {},
   "outputs": [],
   "source": [
    "cdf = df.groupby(\"single_cat\").count()\n",
    "df = df[df.single_cat.isin(set(cdf[cdf.prompt > 20].reset_index().single_cat))]"
   ]
  },
  {
   "cell_type": "code",
   "execution_count": 61,
   "metadata": {},
   "outputs": [
    {
     "name": "stderr",
     "output_type": "stream",
     "text": [
      "  0%|          | 0/555 [00:00<?, ?it/s]"
     ]
    },
    {
     "name": "stderr",
     "output_type": "stream",
     "text": [
      "100%|██████████| 555/555 [1:06:34<00:00,  7.20s/it]   \n"
     ]
    }
   ],
   "source": [
    "import asyncio\n",
    "from tqdm import tqdm\n",
    "\n",
    "response_data = []\n",
    "\n",
    "for prompt in tqdm(df.groupby(\"single_cat\").head(15).prompt):\n",
    "    data = dict()\n",
    "    (m1, llm1), (m2, llm2) = random.sample(llms, 2)\n",
    "\n",
    "    try:\n",
    "        data[\"model1\"], data[\"model2\"] = m1.model, m2.model\n",
    "        data[\"response1\"], data[\"response2\"] = await asyncio.gather(llm1.ainvoke({\"prompt\": prompt}), llm2.ainvoke({\"prompt\": prompt}))\n",
    "        data[\"prompt\"] = prompt\n",
    "    except Exception as e:\n",
    "        continue\n",
    "\n",
    "    response_data.append(data)\n"
   ]
  },
  {
   "cell_type": "code",
   "execution_count": 62,
   "metadata": {},
   "outputs": [],
   "source": [
    "import torch\n",
    "\n",
    "torch.save(response_data, \"response_data.pt\")"
   ]
  },
  {
   "cell_type": "code",
   "execution_count": 66,
   "metadata": {},
   "outputs": [],
   "source": [
    "data = []\n",
    "\n",
    "for data_ in response_data:\n",
    "    d = data_.copy()\n",
    "    d['response1'] = data_[\"response1\"].content\n",
    "    d['response2'] = data_[\"response2\"].content    \n",
    "    data.append(d)\n"
   ]
  },
  {
   "cell_type": "code",
   "execution_count": 67,
   "metadata": {},
   "outputs": [],
   "source": [
    "pd.DataFrame(data).to_csv(\"response_data.tsv\", index=False, sep=\"\\t\")"
   ]
  },
  {
   "cell_type": "code",
   "execution_count": null,
   "metadata": {},
   "outputs": [],
   "source": []
  }
 ],
 "metadata": {
  "kernelspec": {
   "display_name": "ys-dev",
   "language": "python",
   "name": "python3"
  },
  "language_info": {
   "codemirror_mode": {
    "name": "ipython",
    "version": 3
   },
   "file_extension": ".py",
   "mimetype": "text/x-python",
   "name": "python",
   "nbconvert_exporter": "python",
   "pygments_lexer": "ipython3",
   "version": "3.11.0"
  }
 },
 "nbformat": 4,
 "nbformat_minor": 2
}
