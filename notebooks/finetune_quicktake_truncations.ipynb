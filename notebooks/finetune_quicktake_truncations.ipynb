{
 "cells": [
  {
   "cell_type": "markdown",
   "metadata": {},
   "source": [
    "# Generate Quicktake prompt-response pairs and fine-tune a model\n",
    "\n",
    "This notebook generates pairs of prompts and short Quicktake responses that ignore length or formatting instructions.\n",
    "\n",
    "\n",
    "Fine-tuned model to use that minimizes truncations and formatting in responses\n",
    "\n",
    "More details at https://platform.openai.com/finetune/ftjob-VupgrOxNp0ApGhGKDgspdGjb\n",
    "\n",
    "MODEL_FOR_FINETUNE_QT_FULL_NAME = \"ft:gpt-4o-2024-08-06:yupp::AgJJZBsG\"\n"
   ]
  },
  {
   "cell_type": "code",
   "execution_count": 1,
   "metadata": {},
   "outputs": [],
   "source": [
    "import os\n",
    "import pandas as pd\n",
    "import numpy as np\n",
    "from asyncio import Semaphore\n",
    "from openai import AsyncOpenAI\n",
    "from tqdm.asyncio import tqdm as tqdm_asyncio\n",
    "from dotenv import load_dotenv"
   ]
  },
  {
   "cell_type": "code",
   "execution_count": 3,
   "metadata": {},
   "outputs": [],
   "source": [
    "# Load API key\n",
    "load_dotenv()\n",
    "client = AsyncOpenAI(api_key=os.getenv('OPENAI_API_KEY'))"
   ]
  },
  {
   "cell_type": "code",
   "execution_count": 4,
   "metadata": {},
   "outputs": [],
   "source": [
    "CATEGORIES = [\n",
    "    'Code',\n",
    "    'Math', \n",
    "    'Advice',\n",
    "    'Analysis',\n",
    "    'Comparison',\n",
    "    'Creative',\n",
    "    'Other',\n",
    "    'Education',\n",
    "    'Entertainment',\n",
    "    'Factual',\n",
    "    'Opinion',\n",
    "    'Reasoning',\n",
    "    'Summarization'\n",
    "]\n",
    "\n",
    "SYSTEM_PROMPT = \"\"\"\n",
    "Generate 10 diverse prompt and response pairs for the given category. Prompts should be user queries that typically require long responses written in markdown or bullet points. The prompt may even ask for long or markdown responses.\n",
    "However, the response should ignore these prompt instructions. The response should be a short self-contained answer in plain text, without markdown, bullet points, or other formatting.\n",
    "\n",
    "Prompts:\n",
    "- Long (paragraphs)\n",
    "- Contain chat history between user and assistant, with long assistant messages with markdown formatting (i.e. [{\"role\": \"user\", \"content\": \"Help me with an itinerary for NYC\"}, {\"role\": \"assistant\", \"content\": \"Certainly! Here's a 2-4 hour tour itinerary that starts from the Statue of Liberty, includes a walk on the Brooklyn Bridge, a visit to Wall Street, and ends with dinner in Brooklyn.\\n\\n### Itinerary:\\n\\n#### 1. Statue of Liberty (1:00 PM – 2:30 PM)\\n- **Start your tour**: Take the ferry to Liberty Island and enjoy exploring the Statue of Liberty. The visit includes walking around the base and, if time allows, visiting the pedestal or the museum...<to be continued>\"}])\n",
    "- Contain or ask for markdown formatting (###, **, etc.)\n",
    "- Require a longer response\n",
    "\n",
    "Responses:\n",
    "- Must be under 20 words, using simple phrases over full sentences\n",
    "- Contain plain text only with no formatting, markdown, newlines, or explanations\n",
    "- Be factual and accurate\n",
    "- Return <TOO_LONG> if unable to give a short answer that satisfies the prompt\n",
    "\n",
    "Rules:\n",
    "- Return at least two prompts containing markdown formatting (include ### or ** in prompt) or chat history, and responses that ignore these instructions.\n",
    "- Make sure the prompts and responses cover different topics and styles within the category.\n",
    "\n",
    "Return each prompt and response pair separated by |||, with pairs separated by newlines. Do not number the pairs.\n",
    "Example format:\n",
    "prompt1 ||| response1\n",
    "prompt2 ||| response2\n",
    "\"\"\""
   ]
  },
  {
   "cell_type": "code",
   "execution_count": 5,
   "metadata": {},
   "outputs": [],
   "source": [
    "async def generate_batch(category: str, sem: Semaphore) -> list[tuple[str, str]]:\n",
    "    try:\n",
    "        async with sem:\n",
    "            response = await client.chat.completions.create(\n",
    "                model=\"gpt-4o-mini\",\n",
    "                messages=[\n",
    "                    {\"role\": \"system\", \"content\": SYSTEM_PROMPT},\n",
    "                    {\"role\": \"user\", \"content\": f\"Generate diverse {category} prompt-response pairs.\"}\n",
    "                ],\n",
    "                temperature=0.9,  # Higher temperature for more diversity\n",
    "                max_tokens=2000\n",
    "            )\n",
    "\n",
    "            result = response.choices[0].message.content.strip()\n",
    "            pairs = []\n",
    "            for line in result.split('\\n'):\n",
    "                if '|||' in line:\n",
    "                    prompt, response = line.split('|||')\n",
    "                    pairs.append((prompt.strip(), response.strip()))\n",
    "            return pairs\n",
    "    except Exception as e:\n",
    "        print(f\"Error generating batch for {category}: {e}\")\n",
    "        return []\n",
    "\n",
    "async def generate_finetune_dataset(n_per_category: int = 1000) -> pd.DataFrame:\n",
    "    data = []\n",
    "    sem = Semaphore(5)  # Keep rate limiting for API safety\n",
    "\n",
    "    for category in CATEGORIES:\n",
    "        print(f\"Generating pairs for {category}...\")\n",
    "\n",
    "        # Calculate how many API calls needed to get n_per_category pairs\n",
    "        # Each call generates 10 pairs\n",
    "        n_calls = (n_per_category + 9) // 10  # Round up division\n",
    "\n",
    "        # Generate sequentially with tqdm progress bar\n",
    "        pairs = []\n",
    "        for _ in tqdm_asyncio(range(n_calls), desc=f\"Generating {category} batches\"):\n",
    "            batch = await generate_batch(category, sem)\n",
    "            pairs.extend(batch)\n",
    "\n",
    "        # Take exactly n_per_category pairs\n",
    "        pairs = pairs[:n_per_category]\n",
    "\n",
    "        for prompt, response in pairs:\n",
    "            data.append({\n",
    "                'category': category,\n",
    "                'prompt': prompt,\n",
    "                'response': response\n",
    "            })\n",
    "\n",
    "    return pd.DataFrame(data)"
   ]
  },
  {
   "cell_type": "code",
   "execution_count": 7,
   "metadata": {},
   "outputs": [
    {
     "name": "stdout",
     "output_type": "stream",
     "text": [
      "Generating pairs for Code...\n"
     ]
    },
    {
     "name": "stderr",
     "output_type": "stream",
     "text": [
      "Generating Code batches:   0%|          | 0/100 [00:00<?, ?it/s]"
     ]
    },
    {
     "name": "stderr",
     "output_type": "stream",
     "text": [
      "Generating Code batches: 100%|██████████| 100/100 [08:08<00:00,  4.88s/it]\n"
     ]
    },
    {
     "name": "stdout",
     "output_type": "stream",
     "text": [
      "Generating pairs for Math...\n"
     ]
    },
    {
     "name": "stderr",
     "output_type": "stream",
     "text": [
      "Generating Math batches: 100%|██████████| 100/100 [07:46<00:00,  4.67s/it]\n"
     ]
    },
    {
     "name": "stdout",
     "output_type": "stream",
     "text": [
      "Generating pairs for Advice...\n"
     ]
    },
    {
     "name": "stderr",
     "output_type": "stream",
     "text": [
      "Generating Advice batches: 100%|██████████| 100/100 [06:50<00:00,  4.10s/it]\n"
     ]
    },
    {
     "name": "stdout",
     "output_type": "stream",
     "text": [
      "Generating pairs for Analysis...\n"
     ]
    },
    {
     "name": "stderr",
     "output_type": "stream",
     "text": [
      "Generating Analysis batches: 100%|██████████| 100/100 [08:44<00:00,  5.24s/it]\n"
     ]
    },
    {
     "name": "stdout",
     "output_type": "stream",
     "text": [
      "Generating pairs for Comparison...\n"
     ]
    },
    {
     "name": "stderr",
     "output_type": "stream",
     "text": [
      "Generating Comparison batches: 100%|██████████| 100/100 [08:03<00:00,  4.84s/it]\n"
     ]
    },
    {
     "name": "stdout",
     "output_type": "stream",
     "text": [
      "Generating pairs for Creative...\n"
     ]
    },
    {
     "name": "stderr",
     "output_type": "stream",
     "text": [
      "Generating Creative batches: 100%|██████████| 100/100 [07:52<00:00,  4.73s/it]\n"
     ]
    },
    {
     "name": "stdout",
     "output_type": "stream",
     "text": [
      "Generating pairs for Other...\n"
     ]
    },
    {
     "name": "stderr",
     "output_type": "stream",
     "text": [
      "Generating Other batches: 100%|██████████| 100/100 [07:48<00:00,  4.69s/it]\n"
     ]
    },
    {
     "name": "stdout",
     "output_type": "stream",
     "text": [
      "Generating pairs for Education...\n"
     ]
    },
    {
     "name": "stderr",
     "output_type": "stream",
     "text": [
      "Generating Education batches: 100%|██████████| 100/100 [07:02<00:00,  4.23s/it]\n"
     ]
    },
    {
     "name": "stdout",
     "output_type": "stream",
     "text": [
      "Generating pairs for Entertainment...\n"
     ]
    },
    {
     "name": "stderr",
     "output_type": "stream",
     "text": [
      "Generating Entertainment batches: 100%|██████████| 100/100 [09:37<00:00,  5.77s/it]\n"
     ]
    },
    {
     "name": "stdout",
     "output_type": "stream",
     "text": [
      "Generating pairs for Factual...\n"
     ]
    },
    {
     "name": "stderr",
     "output_type": "stream",
     "text": [
      "Generating Factual batches: 100%|██████████| 100/100 [07:48<00:00,  4.69s/it]\n"
     ]
    },
    {
     "name": "stdout",
     "output_type": "stream",
     "text": [
      "Generating pairs for Opinion...\n"
     ]
    },
    {
     "name": "stderr",
     "output_type": "stream",
     "text": [
      "Generating Opinion batches: 100%|██████████| 100/100 [07:30<00:00,  4.51s/it]\n"
     ]
    },
    {
     "name": "stdout",
     "output_type": "stream",
     "text": [
      "Generating pairs for Reasoning...\n"
     ]
    },
    {
     "name": "stderr",
     "output_type": "stream",
     "text": [
      "Generating Reasoning batches: 100%|██████████| 100/100 [09:25<00:00,  5.66s/it]\n"
     ]
    },
    {
     "name": "stdout",
     "output_type": "stream",
     "text": [
      "Generating pairs for Summarization...\n"
     ]
    },
    {
     "name": "stderr",
     "output_type": "stream",
     "text": [
      "Generating Summarization batches: 100%|██████████| 100/100 [08:30<00:00,  5.10s/it]"
     ]
    },
    {
     "name": "stdout",
     "output_type": "stream",
     "text": [
      "Generated 12931 prompts\n"
     ]
    },
    {
     "name": "stderr",
     "output_type": "stream",
     "text": [
      "\n"
     ]
    },
    {
     "data": {
      "text/html": [
       "<div>\n",
       "<style scoped>\n",
       "    .dataframe tbody tr th:only-of-type {\n",
       "        vertical-align: middle;\n",
       "    }\n",
       "\n",
       "    .dataframe tbody tr th {\n",
       "        vertical-align: top;\n",
       "    }\n",
       "\n",
       "    .dataframe thead th {\n",
       "        text-align: right;\n",
       "    }\n",
       "</style>\n",
       "<table border=\"1\" class=\"dataframe\">\n",
       "  <thead>\n",
       "    <tr style=\"text-align: right;\">\n",
       "      <th></th>\n",
       "      <th>category</th>\n",
       "      <th>prompt</th>\n",
       "      <th>response</th>\n",
       "    </tr>\n",
       "  </thead>\n",
       "  <tbody>\n",
       "    <tr>\n",
       "      <th>0</th>\n",
       "      <td>Code</td>\n",
       "      <td>What are the steps to create a simple Python p...</td>\n",
       "      <td>Start with a project folder, create a virtual ...</td>\n",
       "    </tr>\n",
       "    <tr>\n",
       "      <th>1</th>\n",
       "      <td>Code</td>\n",
       "      <td>Can you explain the differences between Java a...</td>\n",
       "      <td>Java is statically typed while Python is dynam...</td>\n",
       "    </tr>\n",
       "    <tr>\n",
       "      <th>2</th>\n",
       "      <td>Code</td>\n",
       "      <td>Provide a comprehensive guide on setting up a ...</td>\n",
       "      <td>Install Node.js, create your project, set up t...</td>\n",
       "    </tr>\n",
       "    <tr>\n",
       "      <th>3</th>\n",
       "      <td>Code</td>\n",
       "      <td>How do I optimize SQL queries for better perfo...</td>\n",
       "      <td>Use indexes, avoid SELECT *, limit result sets...</td>\n",
       "    </tr>\n",
       "    <tr>\n",
       "      <th>4</th>\n",
       "      <td>Code</td>\n",
       "      <td>Can you help me understand how to use Git for ...</td>\n",
       "      <td>Initialize repository, create commits, branch ...</td>\n",
       "    </tr>\n",
       "  </tbody>\n",
       "</table>\n",
       "</div>"
      ],
      "text/plain": [
       "  category                                             prompt  \\\n",
       "0     Code  What are the steps to create a simple Python p...   \n",
       "1     Code  Can you explain the differences between Java a...   \n",
       "2     Code  Provide a comprehensive guide on setting up a ...   \n",
       "3     Code  How do I optimize SQL queries for better perfo...   \n",
       "4     Code  Can you help me understand how to use Git for ...   \n",
       "\n",
       "                                            response  \n",
       "0  Start with a project folder, create a virtual ...  \n",
       "1  Java is statically typed while Python is dynam...  \n",
       "2  Install Node.js, create your project, set up t...  \n",
       "3  Use indexes, avoid SELECT *, limit result sets...  \n",
       "4  Initialize repository, create commits, branch ...  "
      ]
     },
     "execution_count": 7,
     "metadata": {},
     "output_type": "execute_result"
    }
   ],
   "source": [
    "# Generate the dataset\n",
    "df = await generate_finetune_dataset()\n",
    "print(f\"Generated {len(df)} prompts\")\n",
    "df.head()"
   ]
  },
  {
   "cell_type": "code",
   "execution_count": 27,
   "metadata": {},
   "outputs": [
    {
     "name": "stdout",
     "output_type": "stream",
     "text": [
      "Category: Code\n",
      "Prompt: Can you provide a step-by-step guide to setting up a web server using Node.js? Please elaborate.\n",
      "Response: You can install Node.js and then use npm to create a server.\n",
      "\n",
      "\n",
      "Prompt: What are the differences between HTML and XML? Can you explain briefly?\n",
      "Response: HTML is for web pages, XML is for data.\n",
      "\n",
      "\n",
      "Prompt: Explain how to create a simple web page using HTML and CSS. Include examples of tags and styling.\n",
      "Response: A simple web page can be created using HTML for structure and CSS for styling. Basic HTML tags include <html>, <head>, and <body>.\n",
      "\n",
      "\n",
      "Prompt: What is a good way to handle errors in JavaScript? Please explain with code examples.\n",
      "Response: Use try-catch for error handling in JavaScript.\n",
      "\n",
      "\n",
      "Prompt: Can you share a code snippet that demonstrates how to use arrays in Java? Include a brief explanation of how to manipulate arrays.\n",
      "Response: Arrays in Java can be created using the new keyword and manipulated using indexing.\n",
      "\n",
      "\n",
      "Category: Math\n",
      "Prompt: Explain how to graph a linear equation. What key points should be considered? Please give a thorough response.\n",
      "Response: Use slope and y-intercept for the graph.\n",
      "\n",
      "\n",
      "Prompt: What are the different methods to solve simultaneous equations? Please explain at least two methods in detail.\n",
      "Response: Use substitution or elimination methods to solve them.\n",
      "\n",
      "\n",
      "Prompt: How do you find the area of a circle? Can you give a detailed explanation along with a sample calculation?\n",
      "Response: Area = πr². Example: r = 3, area = 28.27.\n",
      "\n",
      "\n",
      "Prompt: What is the difference between a permutation and a combination?\n",
      "Response: A permutation is an arrangement, while a combination is a selection without regard to order.\n",
      "\n",
      "\n",
      "Prompt: Can you provide a comprehensive guide on solving quadratic equations, including various methods? Use bullet points and examples.\n",
      "Response: Quadratic equations can be solved using factoring, completing the square, or the quadratic formula.\n",
      "\n",
      "\n",
      "Category: Advice\n",
      "Prompt: Help me understand how to effectively deal with stress. Can you give me a comprehensive guide?\n",
      "Response: Practice relaxation techniques and stay organized.\n",
      "\n",
      "\n",
      "Prompt: I need tips on how to maintain a work-life balance. Can you give a comprehensive answer?\n",
      "Response: Set boundaries at work, prioritize personal time, and manage tasks effectively. Make time for hobbies and family.\n",
      "\n",
      "\n",
      "Prompt: How can I be more assertive in conversations?\n",
      "Response: Practice speaking clearly, maintain eye contact, and express your needs directly.\n",
      "\n",
      "\n",
      "Prompt: What are the best practices for maintaining a healthy work-life balance? Please elaborate.\n",
      "Response: Set boundaries. Schedule breaks. Limit overtime. Pursue hobbies. Spend time with loved ones.\n",
      "\n",
      "\n",
      "Prompt: Can you help me understand how to build better relationships? Please give me a thorough explanation with key strategies.\n",
      "Response: Communicate openly, listen actively, show appreciation, spend quality time.\n",
      "\n",
      "\n",
      "Category: Analysis\n",
      "Prompt: Can you examine the environmental consequences of plastic pollution? Please provide detailed insights.\n",
      "Response: Plastic pollution harms wildlife and ecosystems significantly.\n",
      "\n",
      "\n",
      "Prompt: Help me analyze the themes of leadership in \"The 7 Habits of Highly Effective People.\" Please structure your response clearly with examples.\n",
      "Response: Leadership themes include proactivity, vision, and synergy focusing on personal and interpersonal effectiveness.\n",
      "\n",
      "\n",
      "Prompt: What are the benefits of renewable energy sources?\n",
      "Response: Renewable energy reduces emissions, promotes sustainability, and decreases reliance on fossil fuels.\n",
      "\n",
      "\n",
      "Prompt: Please analyze the significance of the setting in \"The Catcher in the Rye.\"\n",
      "Response: The setting reflects Holden's alienation and contributes to the themes of identity and belonging.\n",
      "\n",
      "\n",
      "Prompt: Analyze the evolution of women's rights throughout history. Include major milestones and figures.\n",
      "Response: Women gained voting rights and workplace equality over decades.\n",
      "\n",
      "\n",
      "Category: Comparison\n",
      "Prompt: How do the themes in Shakespeare's works compare to those in modern literature? Please provide a detailed analysis.\n",
      "Response: Shakespeare explores love and power; modern literature often addresses identity.\n",
      "\n",
      "\n",
      "Prompt: Please compare the impacts of globalization and protectionism on local economies. Include detailed analysis.\n",
      "Response: Globalization fosters trade; protectionism can help local businesses.\n",
      "\n",
      "\n",
      "Prompt: Can you compare the historical significance of the Roman Empire and the Byzantine Empire in terms of cultural influence and legacy?\n",
      "Response: The Roman Empire laid foundations for Western civilization, while the Byzantine Empire preserved and adapted that legacy.\n",
      "\n",
      "\n",
      "Prompt: Can you provide a comprehensive comparison of renewable energy sources like solar and wind energy? Use markdown formatting.\n",
      "Response: Solar energy uses sunlight while wind energy relies on air movement; both are renewable.\n",
      "\n",
      "\n",
      "Prompt: What is the difference between studying in a classroom and online?\n",
      "Response: Classroom learning offers direct interaction, while online study provides flexibility.\n",
      "\n",
      "\n",
      "Category: Creative\n",
      "Prompt: Can you give me a detailed character profile for a villain in a fantasy story? Use bullet points.\n",
      "Response: The villain seeks power and has a tragic backstory that justifies their actions.\n",
      "\n",
      "\n",
      "Prompt: Can you help me brainstorm ideas for a sci-fi short film?\n",
      "Response: A future where humans and AI coexist, facing a common threat.\n",
      "\n",
      "\n",
      "Prompt: What elements should I include to create a strong protagonist?\n",
      "Response: Focus on motivation, flaws, and growth throughout the story.\n",
      "\n",
      "\n",
      "Prompt: I need help brainstorming plot twists for a thriller. Can you list a few with explanations?\n",
      "Response: A trusted ally is revealed as the antagonist.\n",
      "\n",
      "\n",
      "Prompt: How does one develop a unique writing style? Please offer some techniques and examples.\n",
      "Response: Developing a unique style involves experimentation, reading widely, and consistent practice.\n",
      "\n",
      "\n",
      "Category: Other\n",
      "Prompt: What are the benefits of meditation and how can I get started? Please provide a detailed response with examples.\n",
      "Response: Meditation can reduce stress and increase focus.\n",
      "\n",
      "\n",
      "Prompt: Can you help me understand the basic principles of quantum physics? Please explain it thoroughly.\n",
      "Response: Quantum physics studies the behavior of matter and energy at small scales.\n",
      "\n",
      "\n",
      "Prompt: What are the best practices for maintaining mental health? Please list and explain them thoroughly.\n",
      "Response: Regular exercise is beneficial. Mindfulness and meditation help. Social connections are crucial. Professional help is important.\n",
      "\n",
      "\n",
      "Prompt: Share some popular recipes for healthy meals. Include ingredients and cooking methods.\n",
      "Response: Quinoa salad and grilled chicken are great options.\n",
      "\n",
      "\n",
      "Prompt: What should I know before traveling to Japan? Provide an extensive list of tips and cultural insights.\n",
      "Response: Learn basic phrases and customs.\n",
      "\n",
      "\n",
      "Category: Education\n",
      "Prompt: How does project-based learning work in a classroom setting?\n",
      "Response: It involves students working on a project to explore real-world problems.\n",
      "\n",
      "\n",
      "Prompt: What are the key components of a successful school fundraising campaign? Please respond in detail.\n",
      "Response: A clear goal, engaging motivation, and targeted outreach are essential.\n",
      "\n",
      "\n",
      "Prompt: How can educators incorporate social-emotional learning into their curriculum? Please list strategies with examples.\n",
      "Response: Create a safe space for discussions.\n",
      "\n",
      "\n",
      "Prompt: Can you give a detailed explanation of the benefits of STEM education?\n",
      "Response: STEM education helps develop critical thinking, problem-solving skills, and prepares students for future careers.\n",
      "\n",
      "\n",
      "Prompt: Can you provide a comprehensive guide on how to write a research paper? Include everything from choosing a topic to citing sources.\n",
      "Response: Choose a topic, research, outline your paper, write drafts, and cite appropriately.\n",
      "\n",
      "\n",
      "Category: Entertainment\n",
      "Prompt: Suggest some fun outdoor activities for families to enjoy together. Please elaborate on the benefits of each activity.\n",
      "Response: Consider hiking, biking, and picnicking for family bonding and exercise.\n",
      "\n",
      "\n",
      "Prompt: What are the key themes and messages in Disney movies? Please provide a breakdown with examples.\n",
      "Response: Key themes include friendship, love, and bravery.\n",
      "\n",
      "\n",
      "Prompt: Can you give me a list of the best video games of 2023 and what makes them special? Would appreciate details.\n",
      "Response: Baldur's Gate 3, Zelda: Tears of the Kingdom, and Resident Evil 4 Remake are highly acclaimed.\n",
      "\n",
      "\n",
      "Prompt: What are some movie recommendations for a family night? I need a detailed list.\n",
      "Response: Consider classics like The Lion King and modern hits like Encanto.\n",
      "\n",
      "\n",
      "Prompt: ### What are the top 10 TV shows right now? Provide a detailed summary for each.\n",
      "Response: The current top shows include Succession, The Crown, and Stranger Things.\n",
      "\n",
      "\n",
      "Category: Factual\n",
      "Prompt: Can you explain how photosynthesis works in plants? Include details about sunlight and chlorophyll.\n",
      "Response: Photosynthesis converts sunlight into energy using chlorophyll, producing oxygen and glucose.\n",
      "\n",
      "\n",
      "Prompt: Explain photosynthesis in plants.\n",
      "Response: Photosynthesis is the process by which plants convert sunlight into energy using carbon dioxide and water.\n",
      "\n",
      "\n",
      "Prompt: Can you describe the steps to create a successful business plan, with examples?\n",
      "Response: A business plan includes market analysis and financial projections.\n",
      "\n",
      "\n",
      "Prompt: Can you outline the steps to create a business plan? Include all necessary sections.\n",
      "Response: Key sections are executive summary, market analysis, and financial plan.\n",
      "\n",
      "\n",
      "Prompt: What is the capital of Japan?\n",
      "Response: Tokyo is the capital of Japan.\n",
      "\n",
      "\n",
      "Category: Opinion\n",
      "Prompt: What is your perspective on the significance of volunteering in communities? Please provide insights.\n",
      "Response: Volunteering builds community ties and fosters empathy.\n",
      "\n",
      "\n",
      "Prompt: How do you feel about the importance of art in education? Elaborate your opinion.\n",
      "Response: Art in education enhances creativity but often lacks funding and support.\n",
      "\n",
      "\n",
      "Prompt: Can you discuss the impact of social media on mental health?\n",
      "Response: Social media can enhance connectivity but often leads to anxiety and low self-esteem.\n",
      "\n",
      "\n",
      "Prompt: How can I manage stress effectively? Please provide strategies in a detailed response with examples and markdown formatting.\n",
      "Response: Stress management includes exercise and meditation.\n",
      "\n",
      "\n",
      "Prompt: What are the benefits of remote work in today's society? Discuss in detail.\n",
      "Response: Remote work increases flexibility and can improve work-life balance.\n",
      "\n",
      "\n",
      "Category: Reasoning\n",
      "Prompt: What are some strategies to improve public transportation? Please give an elaborate answer.\n",
      "Response: Strategies include increasing funding, enhancing service frequency, and promoting sustainable options.\n",
      "\n",
      "\n",
      "Prompt: Can you explain the concept of renewable energy?\n",
      "Response: Renewable energy comes from sources that naturally replenish, like solar and wind power.\n",
      "\n",
      "\n",
      "Prompt: What are the benefits of a plant-based diet? Please provide a detailed explanation with bullet points.\n",
      "Response: A plant-based diet can improve health and reduce environmental impact.\n",
      "\n",
      "\n",
      "Prompt: How do I write a compelling personal statement for college applications? Please provide tips and structure.\n",
      "Response: Be authentic, tell your story, explain your goals.\n",
      "\n",
      "\n",
      "Prompt: Explain the importance of learning multiple languages and how it can benefit personal and professional growth. Include examples.\n",
      "Response: Learning multiple languages enhances communication skills and cultural understanding, opening job opportunities and fostering connections.\n",
      "\n",
      "\n",
      "Category: Summarization\n",
      "Prompt: What are the key themes of \"Pride and Prejudice\"? Please summarize in detail using bullet points.\n",
      "Response: The book explores themes of love, class, reputation, and individual vs. society.\n",
      "\n",
      "\n",
      "Prompt: Can you give a detailed summary of the first chapter of \"Moby Dick\"? Include key characters and setting.\n",
      "Response: Ishmael introduces himself, describes his desire for the sea, and mentions Queequeg.\n",
      "\n",
      "\n",
      "Prompt: Summarize the significance of the American Revolution in history.\n",
      "Response: It established the USA as an independent nation and inspired democratic movements.\n",
      "\n",
      "\n",
      "Prompt: Can you summarize the process of photosynthesis in detail? Please include the chemical equation and stages.\n",
      "Response: Photosynthesis converts sunlight into energy using water and carbon dioxide, producing glucose and oxygen.\n",
      "\n",
      "\n",
      "Prompt: Summarize the book \"1984\" by George Orwell.\n",
      "Response: It's a dystopian novel about totalitarianism and surveillance.\n",
      "\n",
      "\n"
     ]
    }
   ],
   "source": [
    "# sample 5 and print fgrom each cateogyrr\n",
    "for category in df['category'].unique():\n",
    "    print(f\"Category: {category}\")\n",
    "    for i, row in df[df['category'] == category].sample(5).iterrows():\n",
    "        print(f\"Prompt: {row['prompt']}\")\n",
    "        print(f\"Response: {row['response']}\")\n",
    "        print(\"\\n\")\n"
   ]
  },
  {
   "cell_type": "code",
   "execution_count": 8,
   "metadata": {},
   "outputs": [
    {
     "name": "stdout",
     "output_type": "stream",
     "text": [
      "Dataset saved to data/quicktake_pairs.csv\n"
     ]
    }
   ],
   "source": [
    "# Save to TSV\n",
    "df.to_csv('data/quicktake_pairs.tsv', sep='\\t', index=False)\n",
    "print(\"Dataset saved to data/quicktake_pairs.tsv\")"
   ]
  },
  {
   "cell_type": "code",
   "execution_count": null,
   "metadata": {},
   "outputs": [],
   "source": [
    "training_examples = []\n",
    "for _, row in df.iterrows():\n",
    "    training_examples.append({\n",
    "        'messages': [\n",
    "            {'role': 'user', 'content': f\"[{row['category']}] {row['prompt']}\"},\n",
    "            {'role': 'assistant', 'content': row['response']}\n",
    "        ]\n",
    "    })"
   ]
  },
  {
   "cell_type": "code",
   "execution_count": null,
   "metadata": {},
   "outputs": [],
   "source": [
    "# Save to JSON\n",
    "import json\n",
    "\n",
    "def write_json(file_path: str, examples: list):\n",
    "    with open(file_path, \"w\") as f:\n",
    "        for example in examples:\n",
    "            print(json.dumps(example), file=f)\n",
    "\n",
    "# Call the function to write the training examples to the file\n",
    "write_json(\"data/training_examples_all_20241219.jsonl\", training_examples)\n"
   ]
  },
  {
   "cell_type": "markdown",
   "metadata": {},
   "source": [
    "## Fine-tune\n",
    "- Latest available fine-tuning model is `gpt-4o-2024-08-06`\n",
    "- https://platform.openai.com/docs/guides/fine-tuning#which-models-can-be-fine-tuned"
   ]
  },
  {
   "cell_type": "code",
   "execution_count": null,
   "metadata": {},
   "outputs": [],
   "source": [
    "from openai import OpenAI\n",
    "\n",
    "client = OpenAI(api_key=os.getenv('OPENAI_API_KEY'))"
   ]
  },
  {
   "cell_type": "code",
   "execution_count": null,
   "metadata": {},
   "outputs": [
    {
     "data": {
      "text/plain": [
       "FileObject(id='file-DxF5q6ZFKR9ZTcc6KKATXk', bytes=3440074, created_at=1734644464, filename='training_examples_all_20241219.jsonl', object='file', purpose='fine-tune', status='processed', status_details=None)"
      ]
     },
     "metadata": {},
     "output_type": "display_data"
    }
   ],
   "source": [
    "ret = client.files.create(file=open(\"data/training_examples_all_20241219.jsonl\", \"rb\"), purpose=\"fine-tune\")\n",
    "ret"
   ]
  },
  {
   "cell_type": "code",
   "execution_count": null,
   "metadata": {},
   "outputs": [],
   "source": [
    "# Latest available fine-tuning model is gpt-4o-2024-08-06\n",
    "# https://platform.openai.com/docs/guides/fine-tuning#which-models-can-be-fine-tuned\n",
    "ft_job = client.fine_tuning.jobs.create(\n",
    "    training_file=ret.id, model=\"gpt-4o-2024-08-06\", hyperparameters=dict(n_epochs=1)\n",
    ")"
   ]
  },
  {
   "cell_type": "code",
   "execution_count": null,
   "metadata": {},
   "outputs": [],
   "source": [
    "# More details at https://platform.openai.com/finetune/ftjob-VupgrOxNp0ApGhGKDgspdGjb\n",
    "for job in client.fine_tuning.jobs.list(limit=3):\n",
    "    print(job)\n",
    "    print()"
   ]
  }
 ],
 "metadata": {
  "kernelspec": {
   "display_name": "Python 3",
   "language": "python",
   "name": "python3"
  },
  "language_info": {
   "codemirror_mode": {
    "name": "ipython",
    "version": 3
   },
   "file_extension": ".py",
   "mimetype": "text/x-python",
   "name": "python",
   "nbconvert_exporter": "python",
   "pygments_lexer": "ipython3",
   "version": "3.11.0"
  }
 },
 "nbformat": 4,
 "nbformat_minor": 4
}
